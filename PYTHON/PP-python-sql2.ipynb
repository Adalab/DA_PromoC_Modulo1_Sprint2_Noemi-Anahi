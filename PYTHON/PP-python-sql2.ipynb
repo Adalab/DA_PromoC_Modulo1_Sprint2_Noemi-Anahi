{
 "cells": [
  {
   "cell_type": "markdown",
   "metadata": {},
   "source": [
    "### PYTHON SQL 2"
   ]
  },
  {
   "cell_type": "markdown",
   "metadata": {},
   "source": [
    "Objetivos:\n",
    "\n",
    "Durante la clase de pair programming de ayer nos creamos nuestra primerita BBDD desde cero en Workbench. En el ejercicio de hoy volveremos a crear esa misma BBDD, pero esta vez desde Python.\n",
    "\n",
    "- 📌 NOTA Cambiad el nombre de la BBDD a mi_primerita_BBDD_Python\n",
    "- 📌 NOTA Cuando creeis las distintas tablas de vuestra BBDD repetereis la mismas lineas de código una y otra vez. Para evitar esto, crearos una función que nos sirva para crear tablas independientemente del contenido de la tabla. La función recibirá como parámetros:\n",
    "\n",
    "-   Contraseña de la conexión al servidor.\n",
    "-  Query para crear la tabla."
   ]
  },
  {
   "cell_type": "markdown",
   "metadata": {},
   "source": [
    "📌 NOTA En la última tabla (Facturas) tendremos que incluir todos los CONSTRAINT necesarios para establecer los relaciones entre las tablas, donde tendremos que especificar:\n",
    "- Foreign Key\n",
    "- References"
   ]
  },
  {
   "cell_type": "code",
   "execution_count": 9,
   "metadata": {},
   "outputs": [
    {
     "name": "stdout",
     "output_type": "stream",
     "text": [
      "1007 (HY000): Can't create database 'mi_primerita_bbdd_python'; database exists\n",
      "Error Code: 1007\n",
      "SQLSTATE HY000\n",
      "Message Can't create database 'mi_primerita_bbdd_python'; database exists\n"
     ]
    }
   ],
   "source": [
    "#creamos la base de datos\n",
    "import mysql.connector\n",
    "\n",
    "cnx = mysql.connector.connect(user='root', password='AlumnaAdalab',\n",
    "                              host='127.0.0.1')\n",
    "\n",
    "\n",
    "mycursor = cnx.cursor()\n",
    "try:\n",
    "    mycursor.execute(\"CREATE DATABASE IF NOT EXISTS mi_primerita_BBDD_Python\")\n",
    "    print(mycursor)\n",
    "except mysql.connector.Error as err:\n",
    "    print(err)\n",
    "    print(\"Error Code:\", err.errno)\n",
    "    print(\"SQLSTATE\", err.sqlstate)\n",
    "    print(\"Message\", err.msg)"
   ]
  },
  {
   "cell_type": "code",
   "execution_count": 12,
   "metadata": {},
   "outputs": [],
   "source": [
    "#creamos funcion para la creación de tablas y la conexión al servidor:\n",
    "\n",
    "def conexion (contraseña, query):\n",
    "\n",
    "    cnx = mysql.connector.connect(user='root', password= contraseña,\n",
    "                              host='127.0.0.1', database='mi_primerita_BBDD_Python')\n",
    "    mycursor = cnx.cursor()\n",
    "\n",
    "    try:\n",
    "        mycursor.execute(query)\n",
    "        print(mycursor)\n",
    "\n",
    "    except mysql.connector.Error as err:\n",
    "        print(err)\n",
    "        print(\"Error Code:\", err.errno)\n",
    "        print(\"SQLSTATE\", err.sqlstate)\n",
    "        print(\"Message\", err.msg)\n",
    "    else:\n",
    "        cnx.close()\n",
    "\n",
    "    print (\"la tabla ha sido creada\")"
   ]
  },
  {
   "cell_type": "code",
   "execution_count": 49,
   "metadata": {},
   "outputs": [],
   "source": [
    "#definimos queries y contraseña para juntar la información que utilizaremos para llamar a la función:\n",
    "\n",
    "contraseña = \"AlumnaAdalab\"\n",
    "\n",
    "query_zapatillas = \"\"\"CREATE TABLE IF NOT EXISTS Zapatillas (\n",
    "                        idZapatillas INT NOT NULL AUTO_INCREMENT, modelo VARCHAR(45) NOT NULL, color VARCHAR(45) NOT NULL, talla INT NOT NULL, \n",
    "                        PRIMARY KEY(idZapatillas));\"\"\"\n",
    "    \n",
    "query_clientes = \"\"\"CREATE TABLE IF NOT EXISTS Clientes (\n",
    "                        idClientes INT AUTO_INCREMENT NOT NULL, nombre VARCHAR(45) NOT NULL, numero_telefono INT(9) NOT NULL, \n",
    "                        email VARCHAR(45) NOT NULL, direccion VARCHAR(45) NOT NULL, provincia VARCHAR(45) NOT NULL, \n",
    "                        pais VARCHAR(45) NOT NULL, codigo_postal INT(9) NOT NULL, PRIMARY KEY (idClientes));\"\"\"\n",
    "    \n",
    "query_empleados = \"\"\"CREATE TABLE IF NOT EXISTS Empleados (\n",
    "                        idEmpleado INT AUTO_INCREMENT NOT NULL, nombre VARCHAR(45) NOT NULL, tienda VARCHAR(45) NOT NULL,\n",
    "                        salario FLOAT NULL, fecha_incorporacion DATE NOT NULL, PRIMARY KEY (idEmpleado));\"\"\"\n",
    "    \n",
    "query_facturas = \"\"\" CREATE TABLE IF NOT EXISTS Facturas (\n",
    "                        idFactura INT NOT NULL AUTO_INCREMENT, idEmpleado INT NOT NULL, idClientes INT NOT NULL, idZapatillas INT NOT NULL,\n",
    "                        fecha DATE NOT NULL, total FLOAT NOT NULL, \n",
    "                        PRIMARY KEY (idFactura), \n",
    "                        CONSTRAINT fk_Facturas_Zapatillas FOREIGN KEY (idZapatillas) REFERENCES Zapatillas (idZapatillas),\n",
    "                        CONSTRAINT fk_Facturas_Clientes FOREIGN KEY (idClientes) REFERENCES Clientes (idClientes),\n",
    "                        CONSTRAINT fk_Facturas_Empleados FOREIGN KEY (idEmpleado) REFERENCES empleados (idEmpleado) );\"\"\""
   ]
  },
  {
   "cell_type": "code",
   "execution_count": 19,
   "metadata": {},
   "outputs": [
    {
     "name": "stdout",
     "output_type": "stream",
     "text": [
      "MySQLCursor: CREATE TABLE Zapatillas (\n",
      "              ..\n",
      "la tabla ha sido creada\n"
     ]
    }
   ],
   "source": [
    "#llamamos a la función para crear la tabla zapatillas:\n",
    "\n",
    "conexion(contraseña, query_zapatillas)\n"
   ]
  },
  {
   "cell_type": "code",
   "execution_count": 21,
   "metadata": {},
   "outputs": [
    {
     "name": "stdout",
     "output_type": "stream",
     "text": [
      "MySQLCursor: CREATE TABLE Clientes (idClientes INT AU..\n",
      "la tabla ha sido creada\n"
     ]
    }
   ],
   "source": [
    "#llamamos a la función para crear la tabla clientes:\n",
    "\n",
    "conexion(contraseña, query_clientes)"
   ]
  },
  {
   "cell_type": "code",
   "execution_count": 22,
   "metadata": {},
   "outputs": [
    {
     "name": "stdout",
     "output_type": "stream",
     "text": [
      "MySQLCursor: CREATE TABLE Empleados (idEmpleado INT A..\n",
      "la tabla ha sido creada\n"
     ]
    }
   ],
   "source": [
    "#llamamos a la función para crear la tabla empleados:\n",
    "\n",
    "conexion(contraseña, query_empleados)"
   ]
  },
  {
   "cell_type": "code",
   "execution_count": 50,
   "metadata": {},
   "outputs": [
    {
     "name": "stdout",
     "output_type": "stream",
     "text": [
      "1050 (42S01): Table 'facturas' already exists\n",
      "Error Code: 1050\n",
      "SQLSTATE 42S01\n",
      "Message Table 'facturas' already exists\n",
      "la tabla ha sido creada\n"
     ]
    }
   ],
   "source": [
    "#llamamos a la función para crear la tabla facturas:\n",
    "conexion(contraseña, query_facturas)"
   ]
  }
 ],
 "metadata": {
  "kernelspec": {
   "display_name": "Python 3.10.8 64-bit (microsoft store)",
   "language": "python",
   "name": "python3"
  },
  "language_info": {
   "codemirror_mode": {
    "name": "ipython",
    "version": 3
   },
   "file_extension": ".py",
   "mimetype": "text/x-python",
   "name": "python",
   "nbconvert_exporter": "python",
   "pygments_lexer": "ipython3",
   "version": "3.10.8"
  },
  "orig_nbformat": 4,
  "vscode": {
   "interpreter": {
    "hash": "74ce4e106c5f3fb5408a2b59926dbdd162e96cafe5f5c54fb66c999b373c7a81"
   }
  }
 },
 "nbformat": 4,
 "nbformat_minor": 2
}
