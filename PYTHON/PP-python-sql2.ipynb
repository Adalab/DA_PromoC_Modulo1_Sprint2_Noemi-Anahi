{
 "cells": [
  {
   "cell_type": "markdown",
   "metadata": {},
   "source": [
    "### PYTHON SQL 2"
   ]
  },
  {
   "cell_type": "markdown",
   "metadata": {},
   "source": [
    "Objetivos:\n",
    "\n",
    "Durante la clase de pair programming de ayer nos creamos nuestra primerita BBDD desde cero en Workbench. En el ejercicio de hoy volveremos a crear esa misma BBDD, pero esta vez desde Python.\n",
    "\n",
    "- 📌 NOTA Cambiad el nombre de la BBDD a mi_primerita_BBDD_Python\n",
    "- 📌 NOTA Cuando creeis las distintas tablas de vuestra BBDD repetereis la mismas lineas de código una y otra vez. Para evitar esto, crearos una función que nos sirva para crear tablas independientemente del contenido de la tabla. La función recibirá como parámetros:\n",
    "\n",
    "-   Contraseña de la conexión al servidor.\n",
    "-  Query para crear la tabla."
   ]
  },
  {
   "cell_type": "markdown",
   "metadata": {},
   "source": [
    "📌 NOTA En la última tabla (Facturas) tendremos que incluir todos los CONSTRAINT necesarios para establecer los relaciones entre las tablas, donde tendremos que especificar:\n",
    "- Foreign Key\n",
    "- References"
   ]
  },
  {
   "cell_type": "code",
   "execution_count": 1,
   "metadata": {},
   "outputs": [
    {
     "name": "stdout",
     "output_type": "stream",
     "text": [
      "MySQLCursor: CREATE DATABASE mi_primerita_BBDD_Python\n"
     ]
    }
   ],
   "source": [
    "#creamos la base de datos\n",
    "import mysql.connector\n",
    "\n",
    "cnx = mysql.connector.connect(user='root', password='AlumnaAdalab',\n",
    "                              host='127.0.0.1')\n",
    "\n",
    "\n",
    "mycursor = cnx.cursor()\n",
    "try:\n",
    "    mycursor.execute(\"CREATE DATABASE mi_primerita_BBDD_Python\")\n",
    "    print(mycursor)\n",
    "except mysql.connector.Error as err:\n",
    "    print(err)\n",
    "    print(\"Error Code:\", err.errno)\n",
    "    print(\"SQLSTATE\", err.sqlstate)\n",
    "    print(\"Message\", err.msg)"
   ]
  },
  {
   "cell_type": "code",
   "execution_count": 5,
   "metadata": {},
   "outputs": [
    {
     "ename": "SyntaxError",
     "evalue": "invalid syntax. Perhaps you forgot a comma? (1939452032.py, line 11)",
     "output_type": "error",
     "traceback": [
      "\u001b[1;36m  Cell \u001b[1;32mIn [5], line 11\u001b[1;36m\u001b[0m\n\u001b[1;33m    valores = {zapatillas: idZapatillas (PRIMARY KEY INT AUTO_INCREMENT NOT NULL), modelo (VARCHAR(45) NOT NULL), color (VARCHAR(45) NOT NULL), talla (INT NOT NULL),\u001b[0m\n\u001b[1;37m                                         ^\u001b[0m\n\u001b[1;31mSyntaxError\u001b[0m\u001b[1;31m:\u001b[0m invalid syntax. Perhaps you forgot a comma?\n"
     ]
    }
   ],
   "source": [
    "#creamos funcion para la creación de tablas y la conexión al servidor\n",
    "\n",
    "def conexion (contraseña, query):\n",
    "\n",
    "    cnx = mysql.connector.connect(user='root', password= {\"contraseña\"},\n",
    "                              host='127.0.0.1', database='mi_primerita_BBDD_Python')\n",
    "\n",
    "\n",
    "mycursor = cnx.cursor()\n",
    "\n",
    "query_zapatillas = \"(CREATE TABLE Zapatillas (idZapatillas PRIMARY KEY INT AUTO_INCREMENT NOT NULL, modelo VARCHAR(45) NOT NULL, color VARCHAR(45) NOT NULL, talla INT NOT NULL));\"\n",
    "query_clientes = \"\"\"(CREATE TABLE Clientes (idClientes PRIMARY KEY INT AUTO_INCREMENT NOT NULL, nombre VARCHAR(45) NOT NULL, numero_telefono INT(9) NOT NULL, email VARCHAR(45) NOT NULL,\n",
    "direccion VARCHAR(45) NOT NULL, provincia VARCHAR(45) NOT NULL, pais VARCHAR(45) NOT NULL, codigo_postal INT(9) NOT NULL));\"\"\"\n",
    "query_empleados = \"\"\"(CREATE TABLE Empleados (idEmpleado PRIMARY KEY INT AUTO_INCREMENT NOT NULL, nombre VARCHAR(45) NOT NULL, tienda VARCHAR(45) NOT NULL, salario FLOAT NULL, fecha_incorporacion DATE NOT NULL));\"\"\"\n",
    "query_facturas = \"\"\"(CREATE TABLE Facturas (idFactura PRIMARY KEY INT AUTO_INCREMENT NOT NULL, idEmpleados INT, NOT NULL, CONSTRAINT fk_facturas_empleados FOREIGN KEY(idEmpleados) \n",
    "REFERENCE empleados (idEmpleados) ON DELETE cascade ON UPDATE cascade, idCliente INT, NOT NULL, CONSTRAINT fk_facturas_cilientes FOREIGN KEY(idClientes) \n",
    "REFERENCE clientes (idClientes) ON DELETE cascade ON UPDATE cascade, idZapatillas INT, NOT NULL, CONSTRAINT fk_facturas_zapatillas FOREIGN KEY(idZapatillas) \n",
    "REFERENCE zapatillas (idZapatillas) ON DELETE cascade ON UPDATE cascade,fecha DATE NOT NULL, total FLOAT NOT NULL));\"\"\"\n",
    "\n",
    "try:\n",
    "\n",
    "    if \"query\" == query_zapatillas:\n",
    "\n",
    "    mycursor.execute (query_zapatillas)\n",
    "\n",
    "contador_indice = 0\n",
    "for nombre_tabla in valores:\n",
    "    nombre_tabla = valores.keys([contador_indice])\n",
    "    valores_datos = valores.values([contador_indice])\n",
    "    contador_indice += 1\n",
    "\n",
    "\n",
    "\n",
    "\n",
    "    print(mycursor)\n",
    "except mysql.connector.Error as err:\n",
    "    print(err)\n",
    "    print(\"Error Code:\", err.errno)\n",
    "    print(\"SQLSTATE\", err.sqlstate)\n",
    "    print(\"Message\", err.msg)\n"
   ]
  }
 ],
 "metadata": {
  "kernelspec": {
   "display_name": "Python 3.10.8 64-bit (microsoft store)",
   "language": "python",
   "name": "python3"
  },
  "language_info": {
   "codemirror_mode": {
    "name": "ipython",
    "version": 3
   },
   "file_extension": ".py",
   "mimetype": "text/x-python",
   "name": "python",
   "nbconvert_exporter": "python",
   "pygments_lexer": "ipython3",
   "version": "3.10.8"
  },
  "orig_nbformat": 4,
  "vscode": {
   "interpreter": {
    "hash": "74ce4e106c5f3fb5408a2b59926dbdd162e96cafe5f5c54fb66c999b373c7a81"
   }
  }
 },
 "nbformat": 4,
 "nbformat_minor": 2
}
