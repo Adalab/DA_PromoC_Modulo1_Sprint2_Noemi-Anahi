{
 "cells": [
  {
   "cell_type": "markdown",
   "metadata": {},
   "source": [
    "## FUNCIONES ARGUMENTOS"
   ]
  },
  {
   "cell_type": "markdown",
   "metadata": {},
   "source": [
    "1 - Vamos a crear una \"Calculadora de puntos\". Tenéis que escribir una calculadora que reciba cadenas de caracteres como entrada. Los puntos representarán el número de la ecuación. Habrá puntos en un lado, un operador, y puntos de nuevo después del oparador. Los puntos y el operador estarán separados por un espacio."
   ]
  },
  {
   "cell_type": "code",
   "execution_count": 1,
   "metadata": {},
   "outputs": [],
   "source": [
    "def calculadora_puntos(caract1, caract2, operacion ='suma'):\n",
    "\n",
    "    if operacion  == 'suma':\n",
    "        cantidad_puntos = caract1.count('.',0 ,len(caract1)) + caract2.count('.',0 ,len(caract2))\n",
    "        return \".\"*cantidad_puntos\n",
    "\n",
    "    elif operacion == 'resta':\n",
    "        if caract1 < caract2:\n",
    "            return f'El resultado de {caract1} - {caract2} en negativo' \n",
    "        cantidad_puntos = caract1.count('.',0 ,len(caract1)) - caract2.count('.',0 ,len(caract2))\n",
    "        return \".\"*cantidad_puntos\n",
    "\n",
    "    elif operacion == 'multiplicacion':\n",
    "        cantidad_puntos = caract1.count('.',0 ,len(caract1)) * caract2.count('.',0 ,len(caract2))\n",
    "        return \".\"*cantidad_puntos\n",
    "\n",
    "    elif operacion == 'division':\n",
    "        cantidad_puntos = caract1.count('.',0 ,len(caract1)) // caract2.count('.',0 ,len(caract2)) \n",
    "        return \".\"*cantidad_puntos\n",
    "\n",
    "    else:\n",
    "        pass"
   ]
  },
  {
   "cell_type": "markdown",
   "metadata": {},
   "source": [
    "Tendréis que devolver un string que contenga puntos, tantos como devuelva la ecuación. Si el resultado es 0, devuelve la cadena vacía. Cuando se trata de una resta, el primer número siempre será mayor o igual que el segundo."
   ]
  },
  {
   "cell_type": "code",
   "execution_count": 4,
   "metadata": {},
   "outputs": [
    {
     "data": {
      "text/plain": [
       "'El resultado de .. - ... en negativo'"
      ]
     },
     "execution_count": 4,
     "metadata": {},
     "output_type": "execute_result"
    }
   ],
   "source": [
    "calculadora_puntos('..','...','resta') #Probamos que funciona."
   ]
  },
  {
   "cell_type": "code",
   "execution_count": 5,
   "metadata": {},
   "outputs": [
    {
     "data": {
      "text/plain": [
       "''"
      ]
     },
     "execution_count": 5,
     "metadata": {},
     "output_type": "execute_result"
    }
   ],
   "source": [
    "calculadora_puntos('..','..','resta') #Probamos que funciona."
   ]
  },
  {
   "cell_type": "markdown",
   "metadata": {},
   "source": [
    "2 - Te despides de tu mejor amigo, \"Nos vemos el próximo año\".\n",
    "Vuestro trabajo: Dado un año, encuentra el próximo cumpleaños o el año más cercano en el que verás a tu mejor amigo.\n",
    "Condiciones\n",
    "Año siempre positivo.\n",
    "El siguiente año que le felicites a tu mejor amigo no puede tener ningún dígito repetido."
   ]
  },
  {
   "cell_type": "code",
   "execution_count": 7,
   "metadata": {},
   "outputs": [],
   "source": [
    "def cumple (año):\n",
    "\n",
    "    while len(set(str(año))) != 4:\n",
    "        año +=1                     #año + 1 porque lo más lógico sería intentar felicitarle al año siguiente.\n",
    "    return f\"Nos vemos en {año}\"\n"
   ]
  },
  {
   "cell_type": "code",
   "execution_count": 9,
   "metadata": {},
   "outputs": [
    {
     "data": {
      "text/plain": [
       "'Nos vemos en 2013'"
      ]
     },
     "execution_count": 9,
     "metadata": {},
     "output_type": "execute_result"
    }
   ],
   "source": [
    "cumple (2001) #Comprobamos que funciona."
   ]
  },
  {
   "cell_type": "markdown",
   "metadata": {},
   "source": [
    "3 - Tenéis que crear un función que chequee la vida de un evaporador que contiene un gas.\n",
    "Conocemos el contenido del evaporador (contenido en ml), el porcentaje de gas que se pierde cada día y el umbral en porcentaje a partir del cual el evaporador deja de ser útil. Todos los números serán estrictamente positivos.\n",
    "⚠️ Nota: el contenido no es, de hecho, necesario en el cuerpo de la función, podéis utilizarlo o no"
   ]
  },
  {
   "cell_type": "code",
   "execution_count": 11,
   "metadata": {},
   "outputs": [],
   "source": [
    "contenido = 10\n",
    "perdida = 10  #Esto es un %\n",
    "umbral = 5  #Esto es un %\n",
    "\n",
    "dias_vida = 0  #establecemos esta variable como contador"
   ]
  },
  {
   "cell_type": "code",
   "execution_count": 12,
   "metadata": {},
   "outputs": [
    {
     "data": {
      "text/plain": [
       "0.5"
      ]
     },
     "execution_count": 12,
     "metadata": {},
     "output_type": "execute_result"
    }
   ],
   "source": [
    "#vamos a pasar el umbral a %\n",
    "umbral = contenido * umbral/100\n",
    "umbral"
   ]
  },
  {
   "cell_type": "code",
   "execution_count": 13,
   "metadata": {},
   "outputs": [
    {
     "name": "stdout",
     "output_type": "stream",
     "text": [
      "10\n",
      "9.0\n",
      "8.1\n",
      "7.289999999999999\n",
      "6.560999999999999\n",
      "5.9049\n",
      "5.31441\n",
      "4.782969\n",
      "4.3046720999999994\n",
      "3.8742048899999997\n",
      "3.4867844009999995\n",
      "3.1381059608999995\n",
      "2.8242953648099993\n",
      "2.5418658283289997\n",
      "2.2876792454960997\n",
      "2.0589113209464895\n",
      "1.8530201888518407\n",
      "1.6677181699666566\n",
      "1.500946352969991\n",
      "1.3508517176729917\n",
      "1.2157665459056926\n",
      "1.0941898913151233\n",
      "0.9847709021836111\n",
      "0.8862938119652499\n",
      "0.797664430768725\n",
      "0.7178979876918524\n",
      "0.6461081889226672\n",
      "0.5814973700304005\n",
      "0.5233476330273604\n"
     ]
    }
   ],
   "source": [
    "while contenido >= umbral:\n",
    "    print(contenido) #vamos a ver el resultado desde el punto de vista de la cantidad\n",
    "    contenido -= contenido * perdida/100\n",
    "    dias_vida += 1"
   ]
  },
  {
   "cell_type": "code",
   "execution_count": 14,
   "metadata": {},
   "outputs": [
    {
     "data": {
      "text/plain": [
       "29"
      ]
     },
     "execution_count": 14,
     "metadata": {},
     "output_type": "execute_result"
    }
   ],
   "source": [
    "dias_vida   #Este es el total de días que nuestro evaporador puede funcionar."
   ]
  },
  {
   "cell_type": "markdown",
   "metadata": {},
   "source": [
    "4 - Definid una función que tome como argumento un entero y devuelva True o False dependiendo de si el número es primo o no.\n",
    "Según la Wikipedia, un número primo es un número natural mayor que 1 que no tiene divisores positivos más que 1 y él mismo."
   ]
  },
  {
   "cell_type": "code",
   "execution_count": 15,
   "metadata": {},
   "outputs": [],
   "source": [
    "def es_numero_primo(num):\n",
    "\n",
    "   if num >1:\n",
    "      for x in range (2,num -1) :\n",
    "            if  num % x == 0:\n",
    "                return False\n",
    "      return True\n",
    "   return f'{num} no cumple la condicion de los numeros primos'"
   ]
  },
  {
   "cell_type": "code",
   "execution_count": 17,
   "metadata": {},
   "outputs": [
    {
     "data": {
      "text/plain": [
       "False"
      ]
     },
     "execution_count": 17,
     "metadata": {},
     "output_type": "execute_result"
    }
   ],
   "source": [
    "es_numero_primo(9)#Comprobamos que funcione."
   ]
  },
  {
   "cell_type": "markdown",
   "metadata": {},
   "source": [
    "5 - Probablemente conozcais el sistema de \"me gusta\" de Facebook y otras páginas. La gente puede dar \"me gusta\" a las publicaciones del blog, a las imágenes o a otros elementos. Queremos crear el texto que debe mostrarse junto a dicho elemento.\n",
    "Cread una función que toma una lista que contiene los nombres de las personas a las que les gusta un artículo. Debe devolver el texto que se muestra en los ejemplos:"
   ]
  },
  {
   "cell_type": "code",
   "execution_count": 18,
   "metadata": {},
   "outputs": [],
   "source": [
    "nombres = [\"Alex\", \"Jacoba\", \"Lola\", \"Carmen\", \"Mariana\"] #Definimos la lista de nombres."
   ]
  },
  {
   "cell_type": "code",
   "execution_count": 19,
   "metadata": {},
   "outputs": [
    {
     "data": {
      "text/plain": [
       "3"
      ]
     },
     "execution_count": 19,
     "metadata": {},
     "output_type": "execute_result"
    }
   ],
   "source": [
    "resto = len(nombres[2:]) #Cuando tengo más de 3 personas la respuesta cambia, por eso queremos saber en qué punto de la lista esto sucede.\n",
    "resto"
   ]
  },
  {
   "cell_type": "code",
   "execution_count": 20,
   "metadata": {},
   "outputs": [],
   "source": [
    "def me_gusta(*args):\n",
    "\n",
    "    resto = len(args)-2\n",
    "\n",
    "    if len(args) ==0:\n",
    "        return f'A nadie le gusta esto'\n",
    "    elif len (args) == 1:\n",
    "        return f'A {(args[0]).capitalize()} le gusta esto'\n",
    "    elif len(args)== 2:\n",
    "        return f'A {(args[0]).capitalize()} y {(args[1]).capitalize()} les gusta esto'\n",
    "    elif len(args)==3:\n",
    "        return f'A {(args[0]).capitalize()}, {(args[1]).capitalize()} y {(args[2]).capitalize()} les gusta esto'\n",
    "    elif len(args)>=4:\n",
    "        return f'A {(args[0]).capitalize()}, {(args[1]).capitalize()}  y {resto} mas les gusta esto'\n",
    "        "
   ]
  },
  {
   "cell_type": "code",
   "execution_count": 21,
   "metadata": {},
   "outputs": [
    {
     "data": {
      "text/plain": [
       "'A Ana, Pepe  y 3 mas les gusta esto'"
      ]
     },
     "execution_count": 21,
     "metadata": {},
     "output_type": "execute_result"
    }
   ],
   "source": [
    "me_gusta('ana','pepe', 'maria', 'emma', 'santiago') #Comprobamos que funcione."
   ]
  }
 ],
 "metadata": {
  "kernelspec": {
   "display_name": "Python 3.9.13 ('base')",
   "language": "python",
   "name": "python3"
  },
  "language_info": {
   "codemirror_mode": {
    "name": "ipython",
    "version": 3
   },
   "file_extension": ".py",
   "mimetype": "text/x-python",
   "name": "python",
   "nbconvert_exporter": "python",
   "pygments_lexer": "ipython3",
   "version": "3.9.13"
  },
  "orig_nbformat": 4,
  "vscode": {
   "interpreter": {
    "hash": "a52af493819045717511545598ab2b73dabca4ca61b402315e0ef2b43666342d"
   }
  }
 },
 "nbformat": 4,
 "nbformat_minor": 2
}
