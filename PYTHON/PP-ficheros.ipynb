{
 "cells": [
  {
   "cell_type": "markdown",
   "metadata": {},
   "source": [
    "# FICHEROS #"
   ]
  },
  {
   "cell_type": "markdown",
   "metadata": {},
   "source": [
    " Esta función debe incluir el código que:\n",
    "\n",
    "1- Nos muestre en que carpeta estamos trabajando.\n",
    "\n",
    "2- Cree una carpeta que se llame \"aprendiendo-ficheros\". ⚠️ Tened en cuenta que si la carpeta ya existe no la podemos crear, nos devolverá un error. Incluye en la función un programa que evite que nos de un error si la carpeta ya existe. \n",
    "\n",
    "3- Cree otra carpeta que se llame \"datos\" dentro de la carpeta \"aprendiendo-ficheros\". En esta carpeta \"datos\" guardaremos el fichero \"saludo.txt\" que os habéis descargado.\n",
    "\n",
    "4- Cambiad el directorio de trabajo a la carpeta \"datos\". Antes de seguir chequead que estáis trabajando en la carpeta \"datos\".\n",
    "\n",
    "5- Cambiad el nombre de la carpeta creada en el punto 2 a \"primera-toma-contacto\""
   ]
  },
  {
   "cell_type": "code",
   "execution_count": 40,
   "metadata": {},
   "outputs": [],
   "source": [
    "def primera_funcion (primera_carpeta, segunda_carpeta, cambio_nombre):\n",
    "\n",
    "\n",
    "#para mostrar en qué carpeta estamos trabajando\n",
    "    import os \n",
    "    from os import getcwd\n",
    "    ruta = os.getcwd ()\n",
    "    print(f' Te encuentras en {ruta}')\n",
    "    \n",
    "#creamos la primera carpeta que se llamará \"aprendiendo-ficheros\", según las condiciones del enunciado.\n",
    "    if primera_carpeta in os.listdir():\n",
    "        print (\"Esta carpeta ya existe\")\n",
    "    elif primera_carpeta not in os.listdir():\n",
    "        os.mkdir(primera_carpeta)\n",
    "        print(f\"La carpeta de {primera_carpeta} se ha creado\")\n",
    "\n",
    "    #volvemos a situarnos dentro de la terminal\n",
    "    os.chdir(f\"{primera_carpeta}\")\n",
    "    nueva_ruta =os.getcwd()\n",
    "    print(f'Ahora estas aqui {nueva_ruta}')\n",
    "  \n",
    "#creamos la segunda carpeta que se llamará \"datos\", según las condiciones del enunciado.\n",
    "    if segunda_carpeta in os.listdir():\n",
    "                    print(\"Esta carpeta ya existe\")\n",
    "    elif segunda_carpeta not in os.listdir():\n",
    "            os.mkdir(segunda_carpeta)\n",
    "            print(f\"La carpeta de {segunda_carpeta} se ha creado\")\n",
    "\n",
    "#volvemos a situarnos dentro de la terminal\n",
    "    os.chdir(f\"{segunda_carpeta}\")\n",
    "    nueva_ruta2 =os.getcwd()\n",
    "    print(f'Ahora estas aqui {nueva_ruta2}')\n",
    "\n",
    "#renombramos la carpeta de \"aprendiendo-ficheros\" \n",
    "    os.chdir(\"../\")\n",
    "    os.chdir(\"../\")\n",
    "    print(os.getcwd())\n",
    "    os.rename(f\"{primera_carpeta}\", f\"{cambio_nombre}\")\n",
    "    print(f\"Se ha cambiado el nombre de {primera_carpeta} a {cambio_nombre}\")\n",
    "    \n",
    "    "
   ]
  },
  {
   "cell_type": "code",
   "execution_count": 52,
   "metadata": {},
   "outputs": [
    {
     "name": "stdout",
     "output_type": "stream",
     "text": [
      " Te encuentras en /Users/anamor/ADALAB/PairProgramming/DA_PromoC_Modulo1_Sprint2_Noemi-Anahi/PYTHON\n",
      "La carpeta de aprendiendo-ficheros se ha creado\n",
      "Ahora estas aqui /Users/anamor/ADALAB/PairProgramming/DA_PromoC_Modulo1_Sprint2_Noemi-Anahi/PYTHON/aprendiendo-ficheros\n",
      "La carpeta de datos se ha creado\n",
      "Ahora estas aqui /Users/anamor/ADALAB/PairProgramming/DA_PromoC_Modulo1_Sprint2_Noemi-Anahi/PYTHON/aprendiendo-ficheros/datos\n",
      "/Users/anamor/ADALAB/PairProgramming/DA_PromoC_Modulo1_Sprint2_Noemi-Anahi/PYTHON\n"
     ]
    },
    {
     "ename": "OSError",
     "evalue": "[Errno 66] Directory not empty: 'aprendiendo-ficheros' -> 'primera-toma-contacto'",
     "output_type": "error",
     "traceback": [
      "\u001b[0;31m---------------------------------------------------------------------------\u001b[0m",
      "\u001b[0;31mOSError\u001b[0m                                   Traceback (most recent call last)",
      "\u001b[0;32m/var/folders/db/hp0l5_js4yv8br5y2tc3frpm0000gn/T/ipykernel_73501/3796429191.py\u001b[0m in \u001b[0;36m<module>\u001b[0;34m\u001b[0m\n\u001b[1;32m      1\u001b[0m \u001b[0;31m#comprobamos que la primera función se ejecuta correctamente\u001b[0m\u001b[0;34m\u001b[0m\u001b[0;34m\u001b[0m\u001b[0m\n\u001b[0;32m----> 2\u001b[0;31m \u001b[0mprimera_funcion\u001b[0m\u001b[0;34m(\u001b[0m\u001b[0;34m'aprendiendo-ficheros'\u001b[0m\u001b[0;34m,\u001b[0m\u001b[0;34m'datos'\u001b[0m\u001b[0;34m,\u001b[0m\u001b[0;34m\"primera-toma-contacto\"\u001b[0m\u001b[0;34m)\u001b[0m\u001b[0;34m\u001b[0m\u001b[0;34m\u001b[0m\u001b[0m\n\u001b[0m",
      "\u001b[0;32m/var/folders/db/hp0l5_js4yv8br5y2tc3frpm0000gn/T/ipykernel_73501/126832720.py\u001b[0m in \u001b[0;36mprimera_funcion\u001b[0;34m(primera_carpeta, segunda_carpeta, cambio_nombre)\u001b[0m\n\u001b[1;32m     36\u001b[0m     \u001b[0mos\u001b[0m\u001b[0;34m.\u001b[0m\u001b[0mchdir\u001b[0m\u001b[0;34m(\u001b[0m\u001b[0;34m\"../\"\u001b[0m\u001b[0;34m)\u001b[0m\u001b[0;34m\u001b[0m\u001b[0;34m\u001b[0m\u001b[0m\n\u001b[1;32m     37\u001b[0m     \u001b[0mprint\u001b[0m\u001b[0;34m(\u001b[0m\u001b[0mos\u001b[0m\u001b[0;34m.\u001b[0m\u001b[0mgetcwd\u001b[0m\u001b[0;34m(\u001b[0m\u001b[0;34m)\u001b[0m\u001b[0;34m)\u001b[0m\u001b[0;34m\u001b[0m\u001b[0;34m\u001b[0m\u001b[0m\n\u001b[0;32m---> 38\u001b[0;31m     \u001b[0mos\u001b[0m\u001b[0;34m.\u001b[0m\u001b[0mrename\u001b[0m\u001b[0;34m(\u001b[0m\u001b[0;34mf\"{primera_carpeta}\"\u001b[0m\u001b[0;34m,\u001b[0m \u001b[0;34mf\"{cambio_nombre}\"\u001b[0m\u001b[0;34m)\u001b[0m\u001b[0;34m\u001b[0m\u001b[0;34m\u001b[0m\u001b[0m\n\u001b[0m\u001b[1;32m     39\u001b[0m     \u001b[0mprint\u001b[0m\u001b[0;34m(\u001b[0m\u001b[0;34mf\"Se ha cambiado el nombre de {primera_carpeta} a {cambio_nombre}\"\u001b[0m\u001b[0;34m)\u001b[0m\u001b[0;34m\u001b[0m\u001b[0;34m\u001b[0m\u001b[0m\n\u001b[1;32m     40\u001b[0m \u001b[0;34m\u001b[0m\u001b[0m\n",
      "\u001b[0;31mOSError\u001b[0m: [Errno 66] Directory not empty: 'aprendiendo-ficheros' -> 'primera-toma-contacto'"
     ]
    }
   ],
   "source": [
    "#comprobamos que la primera función se ejecuta correctamente\n",
    "primera_funcion('aprendiendo-ficheros','datos',\"primera-toma-contacto\")"
   ]
  },
  {
   "cell_type": "code",
   "execution_count": 53,
   "metadata": {},
   "outputs": [],
   "source": [
    "import os "
   ]
  },
  {
   "cell_type": "code",
   "execution_count": 54,
   "metadata": {},
   "outputs": [
    {
     "data": {
      "text/plain": [
       "'/Users/anamor/ADALAB/PairProgramming/DA_PromoC_Modulo1_Sprint2_Noemi-Anahi/PYTHON'"
      ]
     },
     "execution_count": 54,
     "metadata": {},
     "output_type": "execute_result"
    }
   ],
   "source": [
    "#verificamos que estamos en la ruta correcta de nuevo:\n",
    "\n",
    "os.getcwd()"
   ]
  },
  {
   "cell_type": "markdown",
   "metadata": {},
   "source": [
    " Antes de empezar, recordad descargaros el fichero saludo.txt y guardarlo en el repo en el que estáis trabajando, dentro de una carpeta que se llame “datos”.\n",
    "1. Lea el fichero que se llame “saludo.txt y muestre su contenido completo.\n",
    "2. Muestre la linea 4 del fichero."
   ]
  },
  {
   "cell_type": "code",
   "execution_count": 55,
   "metadata": {},
   "outputs": [],
   "source": [
    "ubi_carpeta = os.getcwd()"
   ]
  },
  {
   "cell_type": "code",
   "execution_count": 56,
   "metadata": {},
   "outputs": [],
   "source": []
  },
  {
   "cell_type": "code",
   "execution_count": 57,
   "metadata": {},
   "outputs": [
    {
     "data": {
      "text/plain": [
       "'/Users/anamor/ADALAB/PairProgramming/DA_PromoC_Modulo1_Sprint2_Noemi-Anahi/PYTHON/primera-toma-contacto/datos/saludo.txt'"
      ]
     },
     "execution_count": 57,
     "metadata": {},
     "output_type": "execute_result"
    }
   ],
   "source": [
    "ubi_archivo"
   ]
  },
  {
   "cell_type": "code",
   "execution_count": 61,
   "metadata": {},
   "outputs": [
    {
     "data": {
      "text/plain": [
       "'/Users/anamor/ADALAB/PairProgramming/DA_PromoC_Modulo1_Sprint2_Noemi-Anahi/PYTHON'"
      ]
     },
     "execution_count": 61,
     "metadata": {},
     "output_type": "execute_result"
    }
   ],
   "source": [
    "os.getcwd()\n",
    "\n"
   ]
  },
  {
   "cell_type": "code",
   "execution_count": 62,
   "metadata": {},
   "outputs": [],
   "source": [
    "os.chdir('primera-toma-contacto')"
   ]
  },
  {
   "cell_type": "code",
   "execution_count": 63,
   "metadata": {},
   "outputs": [],
   "source": [
    "os.chdir('datos')"
   ]
  },
  {
   "cell_type": "code",
   "execution_count": 65,
   "metadata": {},
   "outputs": [
    {
     "data": {
      "text/plain": [
       "'/Users/anamor/ADALAB/PairProgramming/DA_PromoC_Modulo1_Sprint2_Noemi-Anahi/PYTHON/primera-toma-contacto/datos'"
      ]
     },
     "execution_count": 65,
     "metadata": {},
     "output_type": "execute_result"
    }
   ],
   "source": [
    "ubi_carpeta = os.getcwd()\n",
    "ubi_carpeta"
   ]
  },
  {
   "cell_type": "code",
   "execution_count": 66,
   "metadata": {},
   "outputs": [],
   "source": [
    "ubi_archivo = ubi_carpeta + \"/\" + 'saludo.txt'"
   ]
  },
  {
   "cell_type": "code",
   "execution_count": 67,
   "metadata": {},
   "outputs": [
    {
     "name": "stdout",
     "output_type": "stream",
     "text": [
      "['Thu Oct 31 08:11:39 2002\\n', '        Return-Path: <bensul2004nng@spinfinder.com>\\n', '        X-Sieve: cmu-sieve 2.0\\n', '        Return-Path: <bensul2004nng@spinfinder.com>\\n', '        Message-Id: <200210311310.g9VDANt24674@bloodwork.mr.itd.UM>\\n', '        From: \"Mr. Ben Suleman\" <bensul2004nng@spinfinder.com>\\n', '        Date: Thu, 31 Oct 2002 05:10:00\\n', '        To: R@M\\n', '        Subject: URGENT ASSISTANCE /RELATIONSHIP (P)\\n', '        MIME-Version: 1.0\\n', '        Content-Type: text/plain;charset=\"iso-8859-1\"\\n', '        Content-Transfer-Encoding: 7bit\\n', '        Status: O\\n', '\\n', '        Dear Friend,\\n', '\\n', '        I am Mr. Ben Suleman a custom officer and work as Assistant controller of the Customs and Excise department Of the Federal Ministry of Internal Affairs stationed at the Murtala Mohammed International Airport, Ikeja, Lagos-Nigeria.\\n', '\\n', '        After the sudden death of the former Head of state of Nigeria General Sanni Abacha on June 8th 1998 his aides and immediate members of his family were arrested while trying to escape from Nigeria in a Chartered jet to Saudi Arabia with 6 trunk boxes Marked \"Diplomatic Baggage\". Acting on a tip-off as they attempted to board the Air Craft,my officials carried out a thorough search on the air craft and discovered that the 6 trunk boxes contained foreign currencies amounting to US$197,570,000.00(One Hundred and  Ninety-Seven Million Five Hundred Seventy Thousand United States Dollars).\\n', '\\n', '        I declared only (5) five boxes to the government and withheld one (1) in my custody containing the sum of (US$30,000,000.00) Thirty Million United States Dollars Only, which has been disguised to prevent their being discovered during transportation process.Due to several media reports on the late head of state about all the money him and his co-government officials stole from our government treasury amounting\\n', '        to US$55 Billion Dollars (ref:ngrguardiannews.com) of July 2nd 1999. Even the London times of July 1998 reported that General Abacha has over US$3.Billion dollars in one account overseas. We decided to conceal this one (1)box till the situation is calm and quite on the issue. The box was thus deposited with a security company here in Nigeria and tagged as \"Precious Stones and Jewellry\" in other that its\\n', '        content will not be discovered. Now that all is calm, we (myself and two of my colleagues in the operations team) are now ready to move this box out of the country through a diplomatic arrangement which is the safest means. \\n', '\\n', '        However as government officials the Civil Service Code of Conduct does not allow us by law to operate any foreign account or own foreign investment and the amount of money that can be found in our account\\n', '        cannot be more than our salary on the average, thus our handicapp and our need for your assistance to help collect and keep safely in your account this money.\\n', '\\n', '        Therefore we want you to assist us in moving this money out of Nigeria. We shall definitely compensate you handsomely for the assistance. We can do this by instructing the Security Company here in Nigeria to\\n', '        move the consignment to their affiliate branch office outside Nigeria through diplomatic means and the consignment will be termed as Precious Stones and Jewelleries\" which you bought during your visit to Nigeria and is being transfered to your country from here for safe keeping. Then we can arrange to meet at the destination country to take the delivery of the consignment. You will thereafter open an account there and lodge the Money there and gradually instruct remittance to your Country. \\n', '\\n', '        This business is \"100%\" risk free for you so please treat this matter with utmost confidentiality .If you indicate your interest to assist us please just e-mail me for more Explanation on how we plan to execute the transaction.\\n', '\\n', '        Expecting your response urgently.\\n', '\\n', '        Best regards,\\n', '\\n', '        Mr. Ben Suleman\\n', '\\n', '        Wed Oct 30 21:41:56 2002\\n', '        Return-Path: <james_ngola2002@maktoob.com>\\n', '        X-Sieve: cmu-sieve 2.0\\n', '        Return-Path: <james_ngola2002@maktoob.com>\\n', '        Message-Id: <200210310241.g9V2fNm6028281@cs.CU>\\n', '        From: \"MR. JAMES NGOLA.\" <james_ngola2002@maktoob.com>\\n', '        Reply-To: james_ngola2002@maktoob.com\\n', '        To: webmaster@aclweb.org\\n', '        Date: Thu, 31 Oct 2002 02:38:20 +0000\\n', '        Subject: URGENT BUSINESS ASSISTANCE AND PARTNERSHIP\\n', '        X-Mailer: Microsoft Outlook Express 5.00.2919.6900 DM\\n', '        MIME-Version: 1.0\\n', '        Content-Type: text/plain; charset=\"us-ascii\"\\n', '        Content-Transfer-Encoding: 8bit\\n', '        X-MIME-Autoconverted: from quoted-printable to 8bit by sideshowmel.si.UM id g9V2foW24311\\n', '        Status: O\\n', '\\n', '        FROM:MR. JAMES NGOLA.\\n', '        CONFIDENTIAL TEL: 233-27-587908.\\n', '        E-MAIL: (james_ngola2002@maktoob.com).\\n', '\\n', '        URGENT BUSINESS ASSISTANCE AND PARTNERSHIP.\\n', '\\n', '\\n', '        DEAR FRIEND,\\n', '\\n', '        I AM ( DR.) JAMES NGOLA, THE PERSONAL ASSISTANCE TO THE LATE CONGOLESE (PRESIDENT LAURENT KABILA) WHO WAS ASSASSINATED BY HIS BODY GUARD ON 16TH JAN. 2001.\\n', '\\n', '\\n', '        THE INCIDENT OCCURRED IN OUR PRESENCE WHILE WE WERE HOLDING MEETING WITH HIS EXCELLENCY OVER THE FINANCIAL RETURNS FROM THE DIAMOND SALES IN THE AREAS CONTROLLED BY (D.R.C.) DEMOCRATIC REPUBLIC OF CONGO FORCES AND THEIR FOREIGN ALLIES ANGOLA AND ZIMBABWE, HAVING RECEIVED THE PREVIOUS DAY (USD$100M) ONE HUNDRED MILLION UNITED STATES DOLLARS, CASH IN THREE DIPLOMATIC BOXES ROUTED THROUGH ZIMBABWE.\\n', '\\n', '        MY PURPOSE OF WRITING YOU THIS LETTER IS TO SOLICIT FOR YOUR ASSISTANCE AS TO BE A COVER TO THE FUND AND ALSO COLLABORATION IN MOVING THE SAID FUND INTO YOUR BANK ACCOUNT THE SUM OF (USD$25M) TWENTY FIVE MILLION UNITED STATES DOLLARS ONLY, WHICH I DEPOSITED WITH A SECURITY COMPANY IN GHANA, IN A DIPLOMATIC BOX AS GOLDS WORTH (USD$25M) TWENTY FIVE MILLION UNITED STATES DOLLARS ONLY FOR SAFE KEEPING IN A SECURITY VAULT FOR ANY FURTHER INVESTMENT PERHAPS IN YOUR COUNTRY. \\n', '\\n', '        YOU WERE INTRODUCED TO ME BY A RELIABLE FRIEND OF MINE WHO IS A TRAVELLER,AND ALSO A MEMBER OF CHAMBER OF COMMERCE AS A RELIABLE AND TRUSTWORTHY PERSON WHOM I CAN RELY ON AS FOREIGN PARTNER, EVEN THOUGH THE NATURE OF THE TRANSACTION WAS NOT REVEALED TO HIM FOR SECURITY REASONS.\\n', '\\n', '\\n', '        THE (USD$25M) WAS PART OF A PROCEEDS FROM DIAMOND TRADE MEANT FOR THE LATE PRESIDENT LAURENT KABILA WHICH WAS DELIVERED THROUGH ZIMBABWE IN DIPLOMATIC BOXES. THE BOXES WERE KEPT UNDER MY CUSTODY BEFORE THE SAD EVENT THAT TOOK THE LIFE OF (MR. PRESIDENT).THE CONFUSION THAT ENSUED AFTER THE ASSASSINATION AND THE SPORADIC SHOOTING AMONG THE FACTIONS, I HAVE TO RUN AWAY FROM THE COUNTRY FOR MY DEAR LIFE AS I AM NOT A SOLDIER BUT A CIVIL SERVANT I CROSSED RIVER CONGO TO OTHER SIDE OF CONGO LIBREVILLE FROM THERE I MOVED TO THE THIRD COUNTRY GHANA WHERE I AM PRESENTLY TAKING REFUGE. \\n', '\\n', '        AS A MATTER OF FACT, WHAT I URGENTLY NEEDED FROM YOU IS YOUR ASSISTANCE IN MOVING THIS MONEY INTO YOUR ACCOUNT IN YOUR COUNTRY FOR INVESTMENT WITHOUT RAISING EYEBROW. FOR YOUR ASSISTANCE I WILL GIVE YOU 20% OF THE TOTAL SUM AS YOUR OWN SHARE WHEN THE MONEY GETS TO YOUR ACCOUNT, WHILE 75% WILL BE FOR ME, OF WHICH WITH YOUR KIND ADVICE I HOPE TO INVEST IN PROFITABLE VENTURE IN YOUR COUNTRY IN OTHER TO SETTLE DOWN FOR MEANINGFUL LIFE, AS I AM TIRED OF LIVING IN A WAR ENVIRONMENT. \\n', '\\n', '        THE REMAINING 5% WILL BE USED TO OFFSET ANY COST INCURRED IN THE CAUSE OF MOVING THE MONEY TO YOUR ACCOUNT. IF THE PROPOSAL IS ACCEPTABLE TO YOU PLEASE CONTACT ME IMMEDIATELY THROUGH THE ABOVE TELEPHONE AND E-MAIL, TO ENABLE ME ARRANGE FACE TO FACE MEETING WITH YOU IN GHANA FOR THE CLEARANCE OF THE FUNDS BEFORE TRANSFRING IT TO YOUR BANK ACCOUNT AS SEEING IS BELIEVING. \\n', '\\n', '        FINALLY, IT IS IMPORTANT ALSO THAT I LET YOU UNDERSTAND THAT THERE IS NO RISK INVOLVED WHATSOEVER AS THE MONEY HAD NO RECORD IN KINSHASA FOR IT WAS MEANT FOR THE PERSONAL USE OF (MR. PRESIDEND ) BEFORE THE NEFARIOUS INCIDENT OCCURRED, AND ALSO I HAVE ALL THE NECESSARY DOCUMENTS AS REGARDS TO THE FUNDS INCLUDING THE (CERTIFICATE OF DEPOSIT), AS I AM THE DEPOSITOR OF THE CONSIGNMENT.\\n', '\\n', '\\n', '        LOOKING FORWARD TO YOUR URGENT RESPONSE.\\n', '\\n', '        YOUR SINCERELY,\\n', '\\n', '        MR. JAMES NGOLA. ']\n"
     ]
    }
   ],
   "source": [
    "with open (\"saludo.txt\", \"r\") as f:\n",
    "       abrimos = f.readlines()\n",
    "       print (abrimos)\n",
    "f.close()"
   ]
  },
  {
   "cell_type": "code",
   "execution_count": 68,
   "metadata": {},
   "outputs": [
    {
     "data": {
      "text/plain": [
       "'        Return-Path: <bensul2004nng@spinfinder.com>\\n'"
      ]
     },
     "execution_count": 68,
     "metadata": {},
     "output_type": "execute_result"
    }
   ],
   "source": [
    "abrimos[3] #la linea 4 está vacia"
   ]
  },
  {
   "cell_type": "code",
   "execution_count": 69,
   "metadata": {},
   "outputs": [],
   "source": [
    "def segunda_funcion (nombre_fichero, modo, encoding, contenido):\n",
    "\n",
    "#volvemos a importar os y nos aseguramos de estar trabajando dentro de \"datos\"\n",
    "    import os \n",
    "    from os import getcwd\n",
    "\n",
    "    ubicacion_actual = os.getcwd()\n",
    "    print(f\"Nuestro directorio de trabajo es el siguiente {ubicacion_actual}\")\n",
    "\n",
    "\n",
    "#comprobamos si nuestro fichero existe o no y actuamos según el enunciado.\n",
    "    if nombre_fichero in os.listdir():\n",
    "        sobreescribir = input(\"Este archivo ya existe, ¿quieres sobreescribirlo? s/n\")\n",
    "        if sobreescribir == \"s\":\n",
    "                #ubi_archivo = ubi_carpeta + \"\\\\\" + nombre_fichero\n",
    "                #print(ubi_archivo)\n",
    "                with open (nombre_fichero, \"w\") as f:\n",
    "                    f.writelines(contenido)\n",
    "                    f.close()\n",
    "                print(\"El documento se ha sobreescrito con éxito\")\n",
    "\n",
    "        elif sobreescribir == \"n\":\n",
    "                pass\n",
    "\n",
    "    elif nombre_fichero not in os.listdir():\n",
    "            with open(nombre_fichero, \"x\") as f:\n",
    "                f.writelines(contenido)\n",
    "                f.readlines(contenido)\n",
    "                f.close()\n"
   ]
  },
  {
   "cell_type": "code",
   "execution_count": 70,
   "metadata": {},
   "outputs": [],
   "source": [
    "carta = \"\"\"Thu Oct 31 08:11:39 2002\n",
    "        Return-Path: <bensul2004nng@spinfinder.com>\n",
    "        X-Sieve: cmu-sieve 2.0\n",
    "        Return-Path: <bensul2004nng@spinfinder.com>\n",
    "        Message-Id: <200210311310.g9VDANt24674@bloodwork.mr.itd.UM>\n",
    "        From: \"Mr. Ben Suleman\" <bensul2004nng@spinfinder.com>\n",
    "        Date: Thu, 31 Oct 2002 05:10:00\n",
    "        To: R@M\n",
    "        Subject: URGENT ASSISTANCE /RELATIONSHIP (P)\n",
    "        MIME-Version: 1.0\n",
    "        Content-Type: text/plain;charset=\"iso-8859-1\"\n",
    "        Content-Transfer-Encoding: 7bit\n",
    "        Status: O\n",
    "\n",
    "        Dear Friend,\n",
    "\n",
    "        I am Mr. Ben Suleman a custom officer and work as Assistant controller of the Customs and Excise department Of the Federal Ministry of Internal Affairs stationed at the Murtala Mohammed International Airport, Ikeja, Lagos-Nigeria.\n",
    "\n",
    "        After the sudden death of the former Head of state of Nigeria General Sanni Abacha on June 8th 1998 his aides and immediate members of his family were arrested while trying to escape from Nigeria in a Chartered jet to Saudi Arabia with 6 trunk boxes Marked \"Diplomatic Baggage\". Acting on a tip-off as they attempted to board the Air Craft,my officials carried out a thorough search on the air craft and discovered that the 6 trunk boxes contained foreign currencies amounting to US$197,570,000.00(One Hundred and  Ninety-Seven Million Five Hundred Seventy Thousand United States Dollars).\n",
    "\n",
    "        I declared only (5) five boxes to the government and withheld one (1) in my custody containing the sum of (US$30,000,000.00) Thirty Million United States Dollars Only, which has been disguised to prevent their being discovered during transportation process.Due to several media reports on the late head of state about all the money him and his co-government officials stole from our government treasury amounting\n",
    "        to US$55 Billion Dollars (ref:ngrguardiannews.com) of July 2nd 1999. Even the London times of July 1998 reported that General Abacha has over US$3.Billion dollars in one account overseas. We decided to conceal this one (1)box till the situation is calm and quite on the issue. The box was thus deposited with a security company here in Nigeria and tagged as \"Precious Stones and Jewellry\" in other that its\n",
    "        content will not be discovered. Now that all is calm, we (myself and two of my colleagues in the operations team) are now ready to move this box out of the country through a diplomatic arrangement which is the safest means. \n",
    "\n",
    "        However as government officials the Civil Service Code of Conduct does not allow us by law to operate any foreign account or own foreign investment and the amount of money that can be found in our account\n",
    "        cannot be more than our salary on the average, thus our handicapp and our need for your assistance to help collect and keep safely in your account this money.\n",
    "\n",
    "        Therefore we want you to assist us in moving this money out of Nigeria. We shall definitely compensate you handsomely for the assistance. We can do this by instructing the Security Company here in Nigeria to\n",
    "        move the consignment to their affiliate branch office outside Nigeria through diplomatic means and the consignment will be termed as Precious Stones and Jewelleries\" which you bought during your visit to Nigeria and is being transfered to your country from here for safe keeping. Then we can arrange to meet at the destination country to take the delivery of the consignment. You will thereafter open an account there and lodge the Money there and gradually instruct remittance to your Country. \n",
    "\n",
    "        This business is \"100%\" risk free for you so please treat this matter with utmost confidentiality .If you indicate your interest to assist us please just e-mail me for more Explanation on how we plan to execute the transaction.\n",
    "\n",
    "        Expecting your response urgently.\n",
    "\n",
    "        Best regards,\n",
    "\n",
    "        Mr. Ben Suleman\n",
    "\n",
    "        Wed Oct 30 21:41:56 2002\n",
    "        Return-Path: <james_ngola2002@maktoob.com>\n",
    "        X-Sieve: cmu-sieve 2.0\n",
    "        Return-Path: <james_ngola2002@maktoob.com>\n",
    "        Message-Id: <200210310241.g9V2fNm6028281@cs.CU>\n",
    "        From: \"MR. JAMES NGOLA.\" <james_ngola2002@maktoob.com>\n",
    "        Reply-To: james_ngola2002@maktoob.com\n",
    "        To: webmaster@aclweb.org\n",
    "        Date: Thu, 31 Oct 2002 02:38:20 +0000\n",
    "        Subject: URGENT BUSINESS ASSISTANCE AND PARTNERSHIP\n",
    "        X-Mailer: Microsoft Outlook Express 5.00.2919.6900 DM\n",
    "        MIME-Version: 1.0\n",
    "        Content-Type: text/plain; charset=\"us-ascii\"\n",
    "        Content-Transfer-Encoding: 8bit\n",
    "        X-MIME-Autoconverted: from quoted-printable to 8bit by sideshowmel.si.UM id g9V2foW24311\n",
    "        Status: O\n",
    "\n",
    "        FROM:MR. JAMES NGOLA.\n",
    "        CONFIDENTIAL TEL: 233-27-587908.\n",
    "        E-MAIL: (james_ngola2002@maktoob.com).\n",
    "\n",
    "        URGENT BUSINESS ASSISTANCE AND PARTNERSHIP.\n",
    "\n",
    "\n",
    "        DEAR FRIEND,\n",
    "\n",
    "        I AM ( DR.) JAMES NGOLA, THE PERSONAL ASSISTANCE TO THE LATE CONGOLESE (PRESIDENT LAURENT KABILA) WHO WAS ASSASSINATED BY HIS BODY GUARD ON 16TH JAN. 2001.\n",
    "\n",
    "\n",
    "        THE INCIDENT OCCURRED IN OUR PRESENCE WHILE WE WERE HOLDING MEETING WITH HIS EXCELLENCY OVER THE FINANCIAL RETURNS FROM THE DIAMOND SALES IN THE AREAS CONTROLLED BY (D.R.C.) DEMOCRATIC REPUBLIC OF CONGO FORCES AND THEIR FOREIGN ALLIES ANGOLA AND ZIMBABWE, HAVING RECEIVED THE PREVIOUS DAY (USD$100M) ONE HUNDRED MILLION UNITED STATES DOLLARS, CASH IN THREE DIPLOMATIC BOXES ROUTED THROUGH ZIMBABWE.\n",
    "\n",
    "        MY PURPOSE OF WRITING YOU THIS LETTER IS TO SOLICIT FOR YOUR ASSISTANCE AS TO BE A COVER TO THE FUND AND ALSO COLLABORATION IN MOVING THE SAID FUND INTO YOUR BANK ACCOUNT THE SUM OF (USD$25M) TWENTY FIVE MILLION UNITED STATES DOLLARS ONLY, WHICH I DEPOSITED WITH A SECURITY COMPANY IN GHANA, IN A DIPLOMATIC BOX AS GOLDS WORTH (USD$25M) TWENTY FIVE MILLION UNITED STATES DOLLARS ONLY FOR SAFE KEEPING IN A SECURITY VAULT FOR ANY FURTHER INVESTMENT PERHAPS IN YOUR COUNTRY. \n",
    "\n",
    "        YOU WERE INTRODUCED TO ME BY A RELIABLE FRIEND OF MINE WHO IS A TRAVELLER,AND ALSO A MEMBER OF CHAMBER OF COMMERCE AS A RELIABLE AND TRUSTWORTHY PERSON WHOM I CAN RELY ON AS FOREIGN PARTNER, EVEN THOUGH THE NATURE OF THE TRANSACTION WAS NOT REVEALED TO HIM FOR SECURITY REASONS.\n",
    "\n",
    "\n",
    "        THE (USD$25M) WAS PART OF A PROCEEDS FROM DIAMOND TRADE MEANT FOR THE LATE PRESIDENT LAURENT KABILA WHICH WAS DELIVERED THROUGH ZIMBABWE IN DIPLOMATIC BOXES. THE BOXES WERE KEPT UNDER MY CUSTODY BEFORE THE SAD EVENT THAT TOOK THE LIFE OF (MR. PRESIDENT).THE CONFUSION THAT ENSUED AFTER THE ASSASSINATION AND THE SPORADIC SHOOTING AMONG THE FACTIONS, I HAVE TO RUN AWAY FROM THE COUNTRY FOR MY DEAR LIFE AS I AM NOT A SOLDIER BUT A CIVIL SERVANT I CROSSED RIVER CONGO TO OTHER SIDE OF CONGO LIBREVILLE FROM THERE I MOVED TO THE THIRD COUNTRY GHANA WHERE I AM PRESENTLY TAKING REFUGE. \n",
    "\n",
    "        AS A MATTER OF FACT, WHAT I URGENTLY NEEDED FROM YOU IS YOUR ASSISTANCE IN MOVING THIS MONEY INTO YOUR ACCOUNT IN YOUR COUNTRY FOR INVESTMENT WITHOUT RAISING EYEBROW. FOR YOUR ASSISTANCE I WILL GIVE YOU 20% OF THE TOTAL SUM AS YOUR OWN SHARE WHEN THE MONEY GETS TO YOUR ACCOUNT, WHILE 75% WILL BE FOR ME, OF WHICH WITH YOUR KIND ADVICE I HOPE TO INVEST IN PROFITABLE VENTURE IN YOUR COUNTRY IN OTHER TO SETTLE DOWN FOR MEANINGFUL LIFE, AS I AM TIRED OF LIVING IN A WAR ENVIRONMENT. \n",
    "\n",
    "        THE REMAINING 5% WILL BE USED TO OFFSET ANY COST INCURRED IN THE CAUSE OF MOVING THE MONEY TO YOUR ACCOUNT. IF THE PROPOSAL IS ACCEPTABLE TO YOU PLEASE CONTACT ME IMMEDIATELY THROUGH THE ABOVE TELEPHONE AND E-MAIL, TO ENABLE ME ARRANGE FACE TO FACE MEETING WITH YOU IN GHANA FOR THE CLEARANCE OF THE FUNDS BEFORE TRANSFRING IT TO YOUR BANK ACCOUNT AS SEEING IS BELIEVING. \n",
    "\n",
    "        FINALLY, IT IS IMPORTANT ALSO THAT I LET YOU UNDERSTAND THAT THERE IS NO RISK INVOLVED WHATSOEVER AS THE MONEY HAD NO RECORD IN KINSHASA FOR IT WAS MEANT FOR THE PERSONAL USE OF (MR. PRESIDEND ) BEFORE THE NEFARIOUS INCIDENT OCCURRED, AND ALSO I HAVE ALL THE NECESSARY DOCUMENTS AS REGARDS TO THE FUNDS INCLUDING THE (CERTIFICATE OF DEPOSIT), AS I AM THE DEPOSITOR OF THE CONSIGNMENT.\n",
    "\n",
    "\n",
    "        LOOKING FORWARD TO YOUR URGENT RESPONSE.\n",
    "\n",
    "        YOUR SINCERELY,\n",
    "\n",
    "        MR. JAMES NGOLA. \"\"\""
   ]
  },
  {
   "cell_type": "code",
   "execution_count": 71,
   "metadata": {},
   "outputs": [
    {
     "name": "stdout",
     "output_type": "stream",
     "text": [
      "Nuestro directorio de trabajo es el siguiente /Users/anamor/ADALAB/PairProgramming/DA_PromoC_Modulo1_Sprint2_Noemi-Anahi/PYTHON/primera-toma-contacto/datos\n",
      "El documento se ha sobreescrito con éxito\n"
     ]
    }
   ],
   "source": [
    "segunda_funcion(\"saludo.txt\", \"x\", \"utf8\", carta)"
   ]
  },
  {
   "cell_type": "code",
   "execution_count": 77,
   "metadata": {},
   "outputs": [],
   "source": [
    "os.chdir('../') #Nos movemos de nuevo a la crapeta de PYTHON ejecutando esta casilla dos veces."
   ]
  },
  {
   "cell_type": "code",
   "execution_count": 79,
   "metadata": {},
   "outputs": [
    {
     "data": {
      "text/plain": [
       "b'/Users/anamor/ADALAB/PairProgramming/DA_PromoC_Modulo1_Sprint2_Noemi-Anahi/PYTHON'"
      ]
     },
     "execution_count": 79,
     "metadata": {},
     "output_type": "execute_result"
    }
   ],
   "source": [
    "os.getcwdb () #Consultamos nuestra ubicacion."
   ]
  },
  {
   "cell_type": "markdown",
   "metadata": {},
   "source": [
    "### ARCHIVO XML"
   ]
  },
  {
   "cell_type": "code",
   "execution_count": 80,
   "metadata": {},
   "outputs": [],
   "source": [
    "import xml.etree.ElementTree as ET"
   ]
  },
  {
   "cell_type": "code",
   "execution_count": 81,
   "metadata": {},
   "outputs": [],
   "source": [
    "def archivo_xml(nombre_archivoxml):\n",
    "\n",
    "    # lo primero que hacemos es importar la librería que necesitamos para trabajar con archivos xml\n",
    "    import xml.etree.ElementTree as ET\n",
    "\n",
    "    # abrimos el fichero y le decimos que printee la raiz y los atributos\n",
    "    tree = ET.parse(nombre_archivoxml)\n",
    "    root = tree.getroot()\n",
    "    print(f\"La raíz de nuestro archivo es '{root.tag}' \")\n",
    "    print(f\"Los atributos de nuestro fichero son {root.attrib}\")\n",
    "\n",
    "    # buscamos la descripción de las peliculas y los años de estreno  \n",
    "   \n",
    "    for child in root:\n",
    "       \n",
    "        for subchild in child:\n",
    "            \n",
    "            for subsubchild in subchild:\n",
    "               \n",
    "                for subsubsubchild in subsubchild:\n",
    "               \n",
    "                    if subsubsubchild.tag == \"year\":\n",
    "                        print(f\"Este es el año de estreno {subsubsubchild.text}\")\n",
    "                    elif subsubsubchild.tag == \"description\":\n",
    "                         print(f\"Esta es la descripción de la pelicula {subsubsubchild.text}\")"
   ]
  },
  {
   "cell_type": "code",
   "execution_count": 82,
   "metadata": {},
   "outputs": [
    {
     "name": "stdout",
     "output_type": "stream",
     "text": [
      "La raíz de nuestro archivo es 'collection' \n",
      "Los atributos de nuestro fichero son {}\n",
      "Este es el año de estreno 1981\n",
      "Esta es la descripción de la pelicula \n",
      "                'Archaeologist and adventurer Indiana Jones \n",
      "                is hired by the U.S. government to find the Ark of  the Covenant before the Nazis.'\n",
      "                \n",
      "Este es el año de estreno 1984\n",
      "Esta es la descripción de la pelicula None provided.\n",
      "Este es el año de estreno 1985\n",
      "Esta es la descripción de la pelicula Marty McFly\n",
      "Este es el año de estreno 2000\n",
      "Esta es la descripción de la pelicula Two mutants come to a private academy for their kind whose resident superhero team must oppose a terrorist organization with similar powers.\n",
      "Este es el año de estreno 1992\n",
      "Esta es la descripción de la pelicula NA.\n",
      "Este es el año de estreno 1992\n",
      "Esta es la descripción de la pelicula WhAtEvER I Want!!!?!\n",
      "Este es el año de estreno 1979\n",
      "Esta es la descripción de la pelicula \"\"\"\"\"\"\"\"\"\n",
      "Este es el año de estreno 1986\n",
      "Esta es la descripción de la pelicula Funny movie on funny guy \n",
      "Este es el año de estreno 2000\n",
      "Esta es la descripción de la pelicula psychopathic Bateman\n"
     ]
    }
   ],
   "source": [
    "archivo_xml(\"peliculasxml.txt\")"
   ]
  }
 ],
 "metadata": {
  "kernelspec": {
   "display_name": "Python 3.10.8 64-bit (microsoft store)",
   "language": "python",
   "name": "python3"
  },
  "language_info": {
   "codemirror_mode": {
    "name": "ipython",
    "version": 3
   },
   "file_extension": ".py",
   "mimetype": "text/x-python",
   "name": "python",
   "nbconvert_exporter": "python",
   "pygments_lexer": "ipython3",
   "version": "3.10.8"
  },
  "orig_nbformat": 4,
  "vscode": {
   "interpreter": {
    "hash": "74ce4e106c5f3fb5408a2b59926dbdd162e96cafe5f5c54fb66c999b373c7a81"
   }
  }
 },
 "nbformat": 4,
 "nbformat_minor": 2
}
