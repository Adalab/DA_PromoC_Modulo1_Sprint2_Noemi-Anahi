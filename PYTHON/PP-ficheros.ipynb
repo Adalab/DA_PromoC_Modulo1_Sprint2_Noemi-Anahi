{
 "cells": [
  {
   "cell_type": "markdown",
   "metadata": {},
   "source": [
    "# FICHEROS #"
   ]
  },
  {
   "cell_type": "markdown",
   "metadata": {},
   "source": [
    " Esta función debe incluir el código que:\n",
    "\n",
    "1- Nos muestre en que carpeta estamos trabajando.\n",
    "\n",
    "2- Cree una carpeta que se llame \"aprendiendo-ficheros\". ⚠️ Tened en cuenta que si la carpeta ya existe no la podemos crear, nos devolverá un error. Incluye en la función un programa que evite que nos de un error si la carpeta ya existe. \n",
    "\n",
    "3- Cree otra carpeta que se llame \"datos\" dentro de la carpeta \"aprendiendo-ficheros\". En esta carpeta \"datos\" guardaremos el fichero \"saludo.txt\" que os habéis descargado.\n",
    "\n",
    "4- Cambiad el directorio de trabajo a la carpeta \"datos\". Antes de seguir chequead que estáis trabajando en la carpeta \"datos\".\n",
    "\n",
    "5- Cambiad el nombre de la carpeta creada en el punto 2 a \"primera-toma-contacto\""
   ]
  },
  {
   "cell_type": "code",
   "execution_count": 4,
   "metadata": {},
   "outputs": [
    {
     "name": "stdout",
     "output_type": "stream",
     "text": [
      "c:\\Users\\noemi\\OneDrive\\Escritorio\\ADALAB\\modulo_1\\DA_PromoC_Modulo1_Sprint2_Noemi-Anahi\\PYTHON\n"
     ]
    }
   ],
   "source": [
    "import os \n",
    "from os import getcwd\n",
    "print(getcwd())"
   ]
  },
  {
   "cell_type": "code",
   "execution_count": 11,
   "metadata": {},
   "outputs": [],
   "source": [
    "def primera_funcion (primera_carpeta, segunda_carpeta, nombre_propio):\n",
    "\n",
    "    import os \n",
    "    from os import getcwd\n",
    "    ruta = os.getcwd\n",
    "    \n",
    "\n",
    "    if primera_carpeta in os.listdir():\n",
    "        print (\"Esta carpeta ya existe\")\n",
    "    elif primera_carpeta not in os.listdir():\n",
    "        os.mkdir(primera_carpeta)\n",
    "        print(f\"La carpeta de {primera_carpeta} se ha creado\")\n",
    "        \n",
    "    if segunda_carpeta in os.listdir():\n",
    "                    print(\"Esta carpeta ya existe\")\n",
    "    elif segunda_carpeta not in os.listdir():\n",
    "            os.mkdir(f'{primera_carpeta}/{segunda_carpeta}')\n",
    "            print(f\"La carpeta de {segunda_carpeta} se ha creado\")\n",
    "\n",
    "    "
   ]
  },
  {
   "cell_type": "code",
   "execution_count": 12,
   "metadata": {},
   "outputs": [
    {
     "name": "stdout",
     "output_type": "stream",
     "text": [
      "Esta carpeta ya existe\n",
      "La carpeta de datos se ha creado\n"
     ]
    }
   ],
   "source": [
    "primera_funcion(\"aprendiendo-ficheros\",\"datos\",\"saludo.txt\")"
   ]
  },
  {
   "cell_type": "code",
   "execution_count": 40,
   "metadata": {},
   "outputs": [],
   "source": [
    "def primera_funcion (primera_carpeta, segunda_carpeta, cambio_nombre):\n",
    "\n",
    "    import os \n",
    "    from os import getcwd\n",
    "    ruta = os.getcwd ()\n",
    "    print(f' Te encuentras en {ruta}')\n",
    "    \n",
    "\n",
    "    if primera_carpeta in os.listdir():\n",
    "        print (\"Esta carpeta ya existe\")\n",
    "    elif primera_carpeta not in os.listdir():\n",
    "        os.mkdir(primera_carpeta)\n",
    "        print(f\"La carpeta de {primera_carpeta} se ha creado\")\n",
    "\n",
    "    \n",
    "    os.chdir(f\"{primera_carpeta}\")\n",
    "    nueva_ruta =os.getcwd()\n",
    "    print(f'Ahora estas aqui {nueva_ruta}')\n",
    "  \n",
    "        \n",
    "    if segunda_carpeta in os.listdir():\n",
    "                    print(\"Esta carpeta ya existe\")\n",
    "    elif segunda_carpeta not in os.listdir():\n",
    "            os.mkdir(segunda_carpeta)\n",
    "            print(f\"La carpeta de {segunda_carpeta} se ha creado\")\n",
    "\n",
    "    os.chdir(f\"{segunda_carpeta}\")\n",
    "    nueva_ruta2 =os.getcwd()\n",
    "    print(f'Ahora estas aqui {nueva_ruta2}')\n",
    "  \n",
    "    os.chdir(\"../\")\n",
    "    os.chdir(\"../\")\n",
    "    print(os.getcwd())\n",
    "    os.rename(f\"{primera_carpeta}\", f\"{cambio_nombre}\")\n",
    "    print(f\"Se ha cambiado el nombre de {primera_carpeta} a {cambio_nombre}\")\n",
    "    \n",
    "    "
   ]
  },
  {
   "cell_type": "code",
   "execution_count": 41,
   "metadata": {},
   "outputs": [
    {
     "name": "stdout",
     "output_type": "stream",
     "text": [
      " Te encuentras en c:\\Users\\noemi\\OneDrive\\Escritorio\\ADALAB\\modulo_1\\DA_PromoC_Modulo1_Sprint2_Noemi-Anahi\\PYTHON\n",
      "La carpeta de aprendiendo-ficheros se ha creado\n",
      "Ahora estas aqui c:\\Users\\noemi\\OneDrive\\Escritorio\\ADALAB\\modulo_1\\DA_PromoC_Modulo1_Sprint2_Noemi-Anahi\\PYTHON\\aprendiendo-ficheros\n",
      "La carpeta de datos se ha creado\n",
      "Ahora estas aqui c:\\Users\\noemi\\OneDrive\\Escritorio\\ADALAB\\modulo_1\\DA_PromoC_Modulo1_Sprint2_Noemi-Anahi\\PYTHON\\aprendiendo-ficheros\\datos\n",
      "c:\\Users\\noemi\\OneDrive\\Escritorio\\ADALAB\\modulo_1\\DA_PromoC_Modulo1_Sprint2_Noemi-Anahi\\PYTHON\n",
      "Se ha cambiado el nombre de aprendiendo-ficheros a primera-toma-contacto\n"
     ]
    }
   ],
   "source": [
    "primera_funcion('aprendiendo-ficheros','datos',\"primera-toma-contacto\")"
   ]
  },
  {
   "cell_type": "code",
   "execution_count": 15,
   "metadata": {},
   "outputs": [
    {
     "data": {
      "text/plain": [
       "'c:\\\\Users\\\\noemi\\\\OneDrive\\\\Escritorio\\\\ADALAB\\\\modulo_1\\\\DA_PromoC_Modulo1_Sprint2_Noemi-Anahi\\\\PYTHON\\\\aprendiendo-ficheros\\\\datos'"
      ]
     },
     "execution_count": 15,
     "metadata": {},
     "output_type": "execute_result"
    }
   ],
   "source": [
    "#verificamos que estamos en la ruta correcta de nuevo:\n",
    "\n",
    "os.getcwd()"
   ]
  },
  {
   "cell_type": "code",
   "execution_count": 22,
   "metadata": {},
   "outputs": [],
   "source": [
    "os.chdir(\"PYTHON\")"
   ]
  },
  {
   "cell_type": "code",
   "execution_count": 49,
   "metadata": {},
   "outputs": [
    {
     "data": {
      "text/plain": [
       "'c:\\\\Users\\\\noemi\\\\OneDrive\\\\Escritorio\\\\ADALAB\\\\modulo_1\\\\DA_PromoC_Modulo1_Sprint2_Noemi-Anahi\\\\PYTHON\\\\primera-toma-contacto'"
      ]
     },
     "execution_count": 49,
     "metadata": {},
     "output_type": "execute_result"
    }
   ],
   "source": [
    "os.getcwd()"
   ]
  },
  {
   "cell_type": "code",
   "execution_count": 50,
   "metadata": {},
   "outputs": [],
   "source": [
    "os.chdir(\"datos\")"
   ]
  },
  {
   "cell_type": "code",
   "execution_count": 51,
   "metadata": {},
   "outputs": [
    {
     "data": {
      "text/plain": [
       "'c:\\\\Users\\\\noemi\\\\OneDrive\\\\Escritorio\\\\ADALAB\\\\modulo_1\\\\DA_PromoC_Modulo1_Sprint2_Noemi-Anahi\\\\PYTHON\\\\primera-toma-contacto\\\\datos'"
      ]
     },
     "execution_count": 51,
     "metadata": {},
     "output_type": "execute_result"
    }
   ],
   "source": [
    "os.getcwd()"
   ]
  },
  {
   "cell_type": "code",
   "execution_count": 52,
   "metadata": {},
   "outputs": [],
   "source": [
    "def segunda_funcion (nombre_fichero, modo, encoding, contenido):\n",
    "\n",
    "\n",
    "    ubicacion_actual = os.getcwd()\n",
    "    print(f\"Nuestro directorio de trabajo es el siguiente {ubicacion_actual}\")\n",
    "\n",
    "\n",
    "    if nombre_fichero in os.listdir():\n",
    "        sobreescribir = input(\"Este archivo ya existe, ¿quieres sobreescribirlo? s/n\")\n",
    "        for i in sobreescribir:\n",
    "            if i == \"s\":\n",
    "                with open (f\"{nombre_fichero}\"f\"{modo}\", f\"{encoding}\") as f:\n",
    "                    f.writelines(contenido)\n",
    "                    f.readlines(contenido)\n",
    "                    f.close\n",
    "            elif i == \"n\":\n",
    "                pass\n",
    "\n",
    "    elif nombre_fichero not in os.listdir():\n",
    "            with open(f\"{nombre_fichero}\" f\"{modo}\", f\"{encoding}\") as f:\n",
    "                f.writelines(contenido)\n",
    "                f.readlines(contenido)\n",
    "                f.close\n"
   ]
  },
  {
   "cell_type": "code",
   "execution_count": 54,
   "metadata": {},
   "outputs": [
    {
     "name": "stdout",
     "output_type": "stream",
     "text": [
      "Nuestro directorio de trabajo es el siguiente c:\\Users\\noemi\\OneDrive\\Escritorio\\ADALAB\\modulo_1\\DA_PromoC_Modulo1_Sprint2_Noemi-Anahi\\PYTHON\\primera-toma-contacto\\datos\n"
     ]
    },
    {
     "ename": "ValueError",
     "evalue": "Must have exactly one of create/read/write/append mode and at most one plus",
     "output_type": "error",
     "traceback": [
      "\u001b[1;31m---------------------------------------------------------------------------\u001b[0m",
      "\u001b[1;31mValueError\u001b[0m                                Traceback (most recent call last)",
      "Cell \u001b[1;32mIn [54], line 1\u001b[0m\n\u001b[1;32m----> 1\u001b[0m segunda_funcion(\u001b[39m\"\u001b[39;49m\u001b[39msaludo.txt\u001b[39;49m\u001b[39m\"\u001b[39;49m, \u001b[39m\"\u001b[39;49m\u001b[39mw\u001b[39;49m\u001b[39m\"\u001b[39;49m, \u001b[39m\"\u001b[39;49m\u001b[39mt\u001b[39;49m\u001b[39m\"\u001b[39;49m, \u001b[39m\"\"\"\u001b[39;49m\u001b[39mpapapap\u001b[39;49m\u001b[39m\"\"\"\u001b[39;49m)\n",
      "Cell \u001b[1;32mIn [52], line 12\u001b[0m, in \u001b[0;36msegunda_funcion\u001b[1;34m(nombre_fichero, modo, encoding, contenido)\u001b[0m\n\u001b[0;32m     10\u001b[0m \u001b[39mfor\u001b[39;00m i \u001b[39min\u001b[39;00m sobreescribir:\n\u001b[0;32m     11\u001b[0m     \u001b[39mif\u001b[39;00m i \u001b[39m==\u001b[39m \u001b[39m\"\u001b[39m\u001b[39ms\u001b[39m\u001b[39m\"\u001b[39m:\n\u001b[1;32m---> 12\u001b[0m         \u001b[39mwith\u001b[39;00m \u001b[39mopen\u001b[39;49m (\u001b[39mf\u001b[39;49m\u001b[39m\"\u001b[39;49m\u001b[39m{\u001b[39;49;00mnombre_fichero\u001b[39m}\u001b[39;49;00m\u001b[39m\"\u001b[39;49m\u001b[39mf\u001b[39;49m\u001b[39m\"\u001b[39;49m\u001b[39m{\u001b[39;49;00mmodo\u001b[39m}\u001b[39;49;00m\u001b[39m\"\u001b[39;49m, \u001b[39mf\u001b[39;49m\u001b[39m\"\u001b[39;49m\u001b[39m{\u001b[39;49;00mencoding\u001b[39m}\u001b[39;49;00m\u001b[39m\"\u001b[39;49m) \u001b[39mas\u001b[39;00m f:\n\u001b[0;32m     13\u001b[0m             f\u001b[39m.\u001b[39mwritelines(contenido)\n\u001b[0;32m     14\u001b[0m             f\u001b[39m.\u001b[39mreadlines(contenido)\n",
      "\u001b[1;31mValueError\u001b[0m: Must have exactly one of create/read/write/append mode and at most one plus"
     ]
    }
   ],
   "source": [
    "segunda_funcion(\"saludo.txt\", \"w\", \"t\", \"\"\"papapap\"\"\")"
   ]
  }
 ],
 "metadata": {
  "kernelspec": {
   "display_name": "Python 3.10.8 64-bit (microsoft store)",
   "language": "python",
   "name": "python3"
  },
  "language_info": {
   "codemirror_mode": {
    "name": "ipython",
    "version": 3
   },
   "file_extension": ".py",
   "mimetype": "text/x-python",
   "name": "python",
   "nbconvert_exporter": "python",
   "pygments_lexer": "ipython3",
   "version": "3.10.8"
  },
  "orig_nbformat": 4,
  "vscode": {
   "interpreter": {
    "hash": "74ce4e106c5f3fb5408a2b59926dbdd162e96cafe5f5c54fb66c999b373c7a81"
   }
  }
 },
 "nbformat": 4,
 "nbformat_minor": 2
}
