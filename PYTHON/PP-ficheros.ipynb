{
 "cells": [
  {
   "cell_type": "markdown",
   "metadata": {},
   "source": [
    "# FICHEROS #"
   ]
  },
  {
   "cell_type": "markdown",
   "metadata": {},
   "source": [
    " Esta función debe incluir el código que:\n",
    "\n",
    "1- Nos muestre en que carpeta estamos trabajando.\n",
    "\n",
    "2- Cree una carpeta que se llame \"aprendiendo-ficheros\". ⚠️ Tened en cuenta que si la carpeta ya existe no la podemos crear, nos devolverá un error. Incluye en la función un programa que evite que nos de un error si la carpeta ya existe. \n",
    "\n",
    "3- Cree otra carpeta que se llame \"datos\" dentro de la carpeta \"aprendiendo-ficheros\". En esta carpeta \"datos\" guardaremos el fichero \"saludo.txt\" que os habéis descargado.\n",
    "\n",
    "4- Cambiad el directorio de trabajo a la carpeta \"datos\". Antes de seguir chequead que estáis trabajando en la carpeta \"datos\".\n",
    "\n",
    "5- Cambiad el nombre de la carpeta creada en el punto 2 a \"primera-toma-contacto\""
   ]
  },
  {
   "cell_type": "code",
   "execution_count": 1,
   "metadata": {},
   "outputs": [],
   "source": [
    "def primera_funcion (primera_carpeta, segunda_carpeta, cambio_nombre):\n",
    "\n",
    "\n",
    "#para mostrar en qué carpeta estamos trabajando\n",
    "    import os \n",
    "    from os import getcwd\n",
    "    ruta = os.getcwd ()\n",
    "    print(f' Te encuentras en {ruta}')\n",
    "    \n",
    "#creamos la primera carpeta que se llamará \"aprendiendo-ficheros\", según las condiciones del enunciado.\n",
    "    if primera_carpeta in os.listdir():\n",
    "        print (\"Esta carpeta ya existe\")\n",
    "    elif primera_carpeta not in os.listdir():\n",
    "        os.mkdir(primera_carpeta)\n",
    "        print(f\"La carpeta de {primera_carpeta} se ha creado\")\n",
    "\n",
    "    #volvemos a situarnos dentro de la terminal\n",
    "    os.chdir(f\"{primera_carpeta}\")\n",
    "    nueva_ruta =os.getcwd()\n",
    "    print(f'Ahora estas aqui {nueva_ruta}')\n",
    "  \n",
    "#creamos la segunda carpeta que se llamará \"datos\", según las condiciones del enunciado.\n",
    "    if segunda_carpeta in os.listdir():\n",
    "                    print(\"Esta carpeta ya existe\")\n",
    "    elif segunda_carpeta not in os.listdir():\n",
    "            os.mkdir(segunda_carpeta)\n",
    "            print(f\"La carpeta de {segunda_carpeta} se ha creado\")\n",
    "\n",
    "#volvemos a situarnos dentro de la terminal\n",
    "    os.chdir(f\"{segunda_carpeta}\")\n",
    "    nueva_ruta2 =os.getcwd()\n",
    "    print(f'Ahora estas aqui {nueva_ruta2}')\n",
    "\n",
    "#renombramos la carpeta de \"aprendiendo-ficheros\" \n",
    "    os.chdir(\"../\")\n",
    "    os.chdir(\"../\")\n",
    "    print(os.getcwd())\n",
    "    os.rename(f\"{primera_carpeta}\", f\"{cambio_nombre}\")\n",
    "    print(f\"Se ha cambiado el nombre de {primera_carpeta} a {cambio_nombre}\")\n",
    "    \n",
    "    "
   ]
  },
  {
   "cell_type": "code",
   "execution_count": 20,
   "metadata": {},
   "outputs": [
    {
     "name": "stdout",
     "output_type": "stream",
     "text": [
      " Te encuentras en c:\\Users\\noemi\\OneDrive\\Escritorio\\ADALAB\\modulo_1\\DA_PromoC_Modulo1_Sprint2_Noemi-Anahi\\PYTHON\\aprendiendo-ficheros\n",
      "La carpeta de aprendiendo-ficheros se ha creado\n",
      "Ahora estas aqui c:\\Users\\noemi\\OneDrive\\Escritorio\\ADALAB\\modulo_1\\DA_PromoC_Modulo1_Sprint2_Noemi-Anahi\\PYTHON\\aprendiendo-ficheros\\aprendiendo-ficheros\n",
      "La carpeta de datos se ha creado\n",
      "Ahora estas aqui c:\\Users\\noemi\\OneDrive\\Escritorio\\ADALAB\\modulo_1\\DA_PromoC_Modulo1_Sprint2_Noemi-Anahi\\PYTHON\\aprendiendo-ficheros\\aprendiendo-ficheros\\datos\n",
      "c:\\Users\\noemi\\OneDrive\\Escritorio\\ADALAB\\modulo_1\\DA_PromoC_Modulo1_Sprint2_Noemi-Anahi\\PYTHON\\aprendiendo-ficheros\n",
      "Se ha cambiado el nombre de aprendiendo-ficheros a primera-toma-contacto\n"
     ]
    }
   ],
   "source": [
    "#comprobamos que la primera función se ejecuta correctamente\n",
    "primera_funcion('aprendiendo-ficheros','datos',\"primera-toma-contacto\")"
   ]
  },
  {
   "cell_type": "code",
   "execution_count": 5,
   "metadata": {},
   "outputs": [
    {
     "data": {
      "text/plain": [
       "'c:\\\\Users\\\\noemi\\\\OneDrive\\\\Escritorio\\\\ADALAB\\\\modulo_1\\\\DA_PromoC_Modulo1_Sprint2_Noemi-Anahi\\\\PYTHON'"
      ]
     },
     "execution_count": 5,
     "metadata": {},
     "output_type": "execute_result"
    }
   ],
   "source": [
    "#verificamos que estamos en la ruta correcta de nuevo:\n",
    "\n",
    "os.getcwd()"
   ]
  },
  {
   "cell_type": "code",
   "execution_count": 6,
   "metadata": {},
   "outputs": [
    {
     "ename": "FileNotFoundError",
     "evalue": "[WinError 2] El sistema no puede encontrar el archivo especificado: 'PYTHON'",
     "output_type": "error",
     "traceback": [
      "\u001b[1;31m---------------------------------------------------------------------------\u001b[0m",
      "\u001b[1;31mFileNotFoundError\u001b[0m                         Traceback (most recent call last)",
      "Cell \u001b[1;32mIn [6], line 1\u001b[0m\n\u001b[1;32m----> 1\u001b[0m os\u001b[39m.\u001b[39;49mchdir(\u001b[39m\"\u001b[39;49m\u001b[39mPYTHON\u001b[39;49m\u001b[39m\"\u001b[39;49m)\n",
      "\u001b[1;31mFileNotFoundError\u001b[0m: [WinError 2] El sistema no puede encontrar el archivo especificado: 'PYTHON'"
     ]
    }
   ],
   "source": [
    "os.chdir(\"PYTHON\")"
   ]
  },
  {
   "cell_type": "code",
   "execution_count": 7,
   "metadata": {},
   "outputs": [
    {
     "data": {
      "text/plain": [
       "'c:\\\\Users\\\\noemi\\\\OneDrive\\\\Escritorio\\\\ADALAB\\\\modulo_1\\\\DA_PromoC_Modulo1_Sprint2_Noemi-Anahi\\\\PYTHON'"
      ]
     },
     "execution_count": 7,
     "metadata": {},
     "output_type": "execute_result"
    }
   ],
   "source": [
    "os.getcwd()"
   ]
  },
  {
   "cell_type": "code",
   "execution_count": 8,
   "metadata": {},
   "outputs": [
    {
     "ename": "FileNotFoundError",
     "evalue": "[WinError 2] El sistema no puede encontrar el archivo especificado: 'datos'",
     "output_type": "error",
     "traceback": [
      "\u001b[1;31m---------------------------------------------------------------------------\u001b[0m",
      "\u001b[1;31mFileNotFoundError\u001b[0m                         Traceback (most recent call last)",
      "Cell \u001b[1;32mIn [8], line 1\u001b[0m\n\u001b[1;32m----> 1\u001b[0m os\u001b[39m.\u001b[39;49mchdir(\u001b[39m\"\u001b[39;49m\u001b[39mdatos\u001b[39;49m\u001b[39m\"\u001b[39;49m)\n",
      "\u001b[1;31mFileNotFoundError\u001b[0m: [WinError 2] El sistema no puede encontrar el archivo especificado: 'datos'"
     ]
    }
   ],
   "source": [
    "os.chdir(\"datos\")"
   ]
  },
  {
   "cell_type": "code",
   "execution_count": 9,
   "metadata": {},
   "outputs": [
    {
     "data": {
      "text/plain": [
       "'c:\\\\Users\\\\noemi\\\\OneDrive\\\\Escritorio\\\\ADALAB\\\\modulo_1\\\\DA_PromoC_Modulo1_Sprint2_Noemi-Anahi\\\\PYTHON'"
      ]
     },
     "execution_count": 9,
     "metadata": {},
     "output_type": "execute_result"
    }
   ],
   "source": [
    "os.getcwd()"
   ]
  },
  {
   "cell_type": "code",
   "execution_count": 13,
   "metadata": {},
   "outputs": [],
   "source": [
    "import os"
   ]
  },
  {
   "cell_type": "code",
   "execution_count": 19,
   "metadata": {},
   "outputs": [
    {
     "ename": "SyntaxError",
     "evalue": "unexpected character after line continuation character (83041766.py, line 1)",
     "output_type": "error",
     "traceback": [
      "\u001b[1;36m  Cell \u001b[1;32mIn [19], line 1\u001b[1;36m\u001b[0m\n\u001b[1;33m    ruta_datos = os.chdir(\\ \"aprendiendo-ficheros\")\u001b[0m\n\u001b[1;37m                           ^\u001b[0m\n\u001b[1;31mSyntaxError\u001b[0m\u001b[1;31m:\u001b[0m unexpected character after line continuation character\n"
     ]
    }
   ],
   "source": [
    "ruta_datos = os.chdir(\\ \"aprendiendo-ficheros\")\n",
    "ruta_datos"
   ]
  },
  {
   "cell_type": "code",
   "execution_count": 3,
   "metadata": {},
   "outputs": [],
   "source": [
    "def segunda_funcion (nombre_fichero, modo, encoding, contenido):\n",
    "\n",
    "#volvemos a importar os y nos aseguramos de estar trabajando dentro de \"datos\"\n",
    "    import os \n",
    "    from os import getcwd\n",
    "\n",
    "    ubicacion_actual = os.getcwd()\n",
    "    print(f\"Nuestro directorio de trabajo es el siguiente {ubicacion_actual}\")\n",
    "\n",
    "#comprobamos si nuestro fichero existe o no y actuamos según el enunciado.\n",
    "    if nombre_fichero in os.listdir():\n",
    "        sobreescribir = input(\"Este archivo ya existe, ¿quieres sobreescribirlo? s/n\")\n",
    "        for i in sobreescribir:\n",
    "            if i == \"s\":\n",
    "                with open (f\"{nombre_fichero}\"f\"{modo}\", f\"{encoding}\") as f:\n",
    "                    f.writelines(contenido)\n",
    "                    f.readlines(contenido)\n",
    "                    f.close\n",
    "            elif i == \"n\":\n",
    "                pass\n",
    "\n",
    "    elif nombre_fichero not in os.listdir():\n",
    "            with open(f\"{nombre_fichero}\" f\"{modo}\", f\"{encoding}\") as f:\n",
    "                f.writelines(contenido)\n",
    "                f.readlines(contenido)\n",
    "                f.close\n"
   ]
  },
  {
   "cell_type": "code",
   "execution_count": 4,
   "metadata": {},
   "outputs": [
    {
     "name": "stdout",
     "output_type": "stream",
     "text": [
      "Nuestro directorio de trabajo es el siguiente c:\\Users\\noemi\\OneDrive\\Escritorio\\ADALAB\\modulo_1\\DA_PromoC_Modulo1_Sprint2_Noemi-Anahi\\PYTHON\n"
     ]
    },
    {
     "ename": "ValueError",
     "evalue": "Must have exactly one of create/read/write/append mode and at most one plus",
     "output_type": "error",
     "traceback": [
      "\u001b[1;31m---------------------------------------------------------------------------\u001b[0m",
      "\u001b[1;31mValueError\u001b[0m                                Traceback (most recent call last)",
      "Cell \u001b[1;32mIn [4], line 1\u001b[0m\n\u001b[1;32m----> 1\u001b[0m segunda_funcion(\u001b[39m\"\u001b[39;49m\u001b[39msaludo.txt\u001b[39;49m\u001b[39m\"\u001b[39;49m, \u001b[39m\"\u001b[39;49m\u001b[39mw\u001b[39;49m\u001b[39m\"\u001b[39;49m, \u001b[39m\"\u001b[39;49m\u001b[39mt\u001b[39;49m\u001b[39m\"\u001b[39;49m, \u001b[39m\"\"\"\u001b[39;49m\u001b[39mpapapap\u001b[39;49m\u001b[39m\"\"\"\u001b[39;49m)\n",
      "Cell \u001b[1;32mIn [3], line 23\u001b[0m, in \u001b[0;36msegunda_funcion\u001b[1;34m(nombre_fichero, modo, encoding, contenido)\u001b[0m\n\u001b[0;32m     20\u001b[0m             \u001b[39mpass\u001b[39;00m\n\u001b[0;32m     22\u001b[0m \u001b[39melif\u001b[39;00m nombre_fichero \u001b[39mnot\u001b[39;00m \u001b[39min\u001b[39;00m os\u001b[39m.\u001b[39mlistdir():\n\u001b[1;32m---> 23\u001b[0m         \u001b[39mwith\u001b[39;00m \u001b[39mopen\u001b[39;49m(\u001b[39mf\u001b[39;49m\u001b[39m\"\u001b[39;49m\u001b[39m{\u001b[39;49;00mnombre_fichero\u001b[39m}\u001b[39;49;00m\u001b[39m\"\u001b[39;49m \u001b[39mf\u001b[39;49m\u001b[39m\"\u001b[39;49m\u001b[39m{\u001b[39;49;00mmodo\u001b[39m}\u001b[39;49;00m\u001b[39m\"\u001b[39;49m, \u001b[39mf\u001b[39;49m\u001b[39m\"\u001b[39;49m\u001b[39m{\u001b[39;49;00mencoding\u001b[39m}\u001b[39;49;00m\u001b[39m\"\u001b[39;49m) \u001b[39mas\u001b[39;00m f:\n\u001b[0;32m     24\u001b[0m             f\u001b[39m.\u001b[39mwritelines(contenido)\n\u001b[0;32m     25\u001b[0m             f\u001b[39m.\u001b[39mreadlines(contenido)\n",
      "\u001b[1;31mValueError\u001b[0m: Must have exactly one of create/read/write/append mode and at most one plus"
     ]
    }
   ],
   "source": [
    "segunda_funcion(\"saludo.txt\", \"w\", \"t\", \"\"\"papapap\"\"\")"
   ]
  }
 ],
 "metadata": {
  "kernelspec": {
   "display_name": "Python 3.10.8 64-bit (microsoft store)",
   "language": "python",
   "name": "python3"
  },
  "language_info": {
   "codemirror_mode": {
    "name": "ipython",
    "version": 3
   },
   "file_extension": ".py",
   "mimetype": "text/x-python",
   "name": "python",
   "nbconvert_exporter": "python",
   "pygments_lexer": "ipython3",
   "version": "3.10.8"
  },
  "orig_nbformat": 4,
  "vscode": {
   "interpreter": {
    "hash": "74ce4e106c5f3fb5408a2b59926dbdd162e96cafe5f5c54fb66c999b373c7a81"
   }
  }
 },
 "nbformat": 4,
 "nbformat_minor": 2
}
