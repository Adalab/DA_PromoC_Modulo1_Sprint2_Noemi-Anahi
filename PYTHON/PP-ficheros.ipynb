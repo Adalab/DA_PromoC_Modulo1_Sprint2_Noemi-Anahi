{
 "cells": [
  {
   "cell_type": "markdown",
   "metadata": {},
   "source": [
    "# FICHEROS #"
   ]
  },
  {
   "cell_type": "markdown",
   "metadata": {},
   "source": [
    " Esta función debe incluir el código que:\n",
    "\n",
    "1- Nos muestre en que carpeta estamos trabajando.\n",
    "\n",
    "2- Cree una carpeta que se llame \"aprendiendo-ficheros\". ⚠️ Tened en cuenta que si la carpeta ya existe no la podemos crear, nos devolverá un error. Incluye en la función un programa que evite que nos de un error si la carpeta ya existe. \n",
    "\n",
    "3- Cree otra carpeta que se llame \"datos\" dentro de la carpeta \"aprendiendo-ficheros\". En esta carpeta \"datos\" guardaremos el fichero \"saludo.txt\" que os habéis descargado.\n",
    "\n",
    "4- Cambiad el directorio de trabajo a la carpeta \"datos\". Antes de seguir chequead que estáis trabajando en la carpeta \"datos\".\n",
    "\n",
    "5- Cambiad el nombre de la carpeta creada en el punto 2 a \"primera-toma-contacto\""
   ]
  },
  {
   "cell_type": "code",
   "execution_count": 4,
   "metadata": {},
   "outputs": [
    {
     "name": "stdout",
     "output_type": "stream",
     "text": [
      "c:\\Users\\noemi\\OneDrive\\Escritorio\\ADALAB\\modulo_1\\DA_PromoC_Modulo1_Sprint2_Noemi-Anahi\\PYTHON\n"
     ]
    }
   ],
   "source": [
    "import os \n",
    "from os import getcwd\n",
    "print(getcwd())"
   ]
  },
  {
   "cell_type": "code",
   "execution_count": 23,
   "metadata": {},
   "outputs": [],
   "source": [
    "def primera_funcion (primera_carpeta, segunda_carpeta, nombre_propio):\n",
    "\n",
    "    import os \n",
    "    from os import getcwd\n",
    "    ruta = os.getcwd\n",
    "    ruta_nueva = ruta+\"/\"+primera_carpeta\n",
    "\n",
    "    if primera_carpeta in os.listdir():\n",
    "        print (\"Esta carpeta ya existe\")\n",
    "    elif primera_carpeta not in os.listdir():\n",
    "        os.mkdir(primera_carpeta)\n",
    "        print(f\"La carpeta de {primera_carpeta} se ha creado\")\n",
    "        \n",
    "    if segunda_carpeta in os.listdir(segunda_carpeta):\n",
    "            print(\"Esta carpeta ya existe\")\n",
    "    elif segunda_carpeta not in os.listdir(primera_carpeta):\n",
    "            os.mkdir(segunda_carpeta)\n",
    "            print(f\"La carpeta de {segunda_carpeta} se ha creado\")"
   ]
  },
  {
   "cell_type": "code",
   "execution_count": 24,
   "metadata": {},
   "outputs": [
    {
     "ename": "TypeError",
     "evalue": "unsupported operand type(s) for +: 'builtin_function_or_method' and 'str'",
     "output_type": "error",
     "traceback": [
      "\u001b[1;31m---------------------------------------------------------------------------\u001b[0m",
      "\u001b[1;31mTypeError\u001b[0m                                 Traceback (most recent call last)",
      "Cell \u001b[1;32mIn [24], line 1\u001b[0m\n\u001b[1;32m----> 1\u001b[0m primera_funcion(\u001b[39m\"\u001b[39;49m\u001b[39maprendiendo-ficheros\u001b[39;49m\u001b[39m\"\u001b[39;49m,\u001b[39m\"\u001b[39;49m\u001b[39mdatos\u001b[39;49m\u001b[39m\"\u001b[39;49m,\u001b[39m\"\u001b[39;49m\u001b[39msaludo.txt\u001b[39;49m\u001b[39m\"\u001b[39;49m)\n",
      "Cell \u001b[1;32mIn [23], line 6\u001b[0m, in \u001b[0;36mprimera_funcion\u001b[1;34m(primera_carpeta, segunda_carpeta, nombre_propio)\u001b[0m\n\u001b[0;32m      4\u001b[0m \u001b[39mfrom\u001b[39;00m \u001b[39mos\u001b[39;00m \u001b[39mimport\u001b[39;00m getcwd\n\u001b[0;32m      5\u001b[0m ruta \u001b[39m=\u001b[39m os\u001b[39m.\u001b[39mgetcwd\n\u001b[1;32m----> 6\u001b[0m ruta_nueva \u001b[39m=\u001b[39m ruta\u001b[39m+\u001b[39;49m\u001b[39m\"\u001b[39;49m\u001b[39m/\u001b[39;49m\u001b[39m\"\u001b[39;49m\u001b[39m+\u001b[39mprimera_carpeta\n\u001b[0;32m      8\u001b[0m \u001b[39mif\u001b[39;00m primera_carpeta \u001b[39min\u001b[39;00m os\u001b[39m.\u001b[39mlistdir():\n\u001b[0;32m      9\u001b[0m     \u001b[39mprint\u001b[39m (\u001b[39m\"\u001b[39m\u001b[39mEsta carpeta ya existe\u001b[39m\u001b[39m\"\u001b[39m)\n",
      "\u001b[1;31mTypeError\u001b[0m: unsupported operand type(s) for +: 'builtin_function_or_method' and 'str'"
     ]
    }
   ],
   "source": [
    "primera_funcion(\"aprendiendo-ficheros\",\"datos\",\"saludo.txt\")"
   ]
  }
 ],
 "metadata": {
  "kernelspec": {
   "display_name": "Python 3.10.8 64-bit (microsoft store)",
   "language": "python",
   "name": "python3"
  },
  "language_info": {
   "codemirror_mode": {
    "name": "ipython",
    "version": 3
   },
   "file_extension": ".py",
   "mimetype": "text/x-python",
   "name": "python",
   "nbconvert_exporter": "python",
   "pygments_lexer": "ipython3",
   "version": "3.10.8"
  },
  "orig_nbformat": 4,
  "vscode": {
   "interpreter": {
    "hash": "74ce4e106c5f3fb5408a2b59926dbdd162e96cafe5f5c54fb66c999b373c7a81"
   }
  }
 },
 "nbformat": 4,
 "nbformat_minor": 2
}
