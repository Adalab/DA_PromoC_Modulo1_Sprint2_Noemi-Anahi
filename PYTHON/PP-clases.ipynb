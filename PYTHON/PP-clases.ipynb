{
 "cells": [
  {
   "cell_type": "markdown",
   "metadata": {},
   "source": [
    "# CLASES #"
   ]
  },
  {
   "cell_type": "markdown",
   "metadata": {},
   "source": [
    "ENUNCIADO:\n",
    "En este ejercicio de pair programming crearemos una clase. Imaginemos que nuestro jefe nos pide que creemos una clase para tener más ordenada la información sobre cada uno de los empleados de la empresa. Para ello:\n",
    "Definid una clase que se llame Empleados\n",
    "Definid los siguientes atributos que caracterizan a nuestros empleados:\n",
    "nombre\n",
    "apellido\n",
    "edad\n",
    "posición que ocupa en la empresa\n",
    "año en que entró en la empresa\n",
    "número de días de vacaciones que tiene\n",
    "Las herramientas que usa cada uno de ellos, por ejemplo, Outlook, excel y word. Deberá ser una lista.\n",
    "Cread una instancia para la clase creada\n",
    "Definid los siguientes métodos:\n",
    "descripción\n",
    "calculo_vacaciones\n",
    "cambiando_posicion\n",
    "Tips para definir los métodos:\n",
    "--> Método descripcion:\n",
    "El return deberá ser un string en el que aparezca el nombre, apellidos, los años que lleva en la empresa y los días de vacaciones que le quedan. Este método deberá devolver algo como esto:\n",
    "\"El/ella, es Lorena, Data Analyst, quien lleva con nostros en la empresa desde 2000. Además este año le quedan 15 dias de vacaciones\"\n",
    "Método calculo_vacaciones:\n",
    "Deberá contener input que nos pregunte cuántos días se fue determinada persona de vacaciones.\n",
    "Luego deberemos restar el número de días que se fue de vacaciones a el número total de vacaciones que tiene ese empleado.\n",
    "Una condición que chequee si:\n",
    "Si el numero de vacaciones que tiene el empleado es igual a 0, devolved un mensaje que diga que se le acabaron las vacaciones\n",
    "Si el número de días que se quiere ir de vacaciones es mayor que el número de vacaciones que le quedan, devolved un mensaje que diga que no se puede ir tantos de vacaciones\n",
    "En caso de que no se cumplan ninguna de estas condiciones, que nos devuelva el número de vacaciones que le quedan al empleado.\n",
    "--> Método cambiando_posicion:\n",
    "Iteraremos por la lista de herramientas que usa el empleado:\n",
    "Si el empleado usa \"Python\" devolveremos un mensaje de bien hecho!\n",
    "Si el empleado usa \"Excel\" le recomendaremos amigablemente que deje excel y empiece a usar Excel"
   ]
  },
  {
   "cell_type": "markdown",
   "metadata": {},
   "source": [
    "#### RESOLUCION ####"
   ]
  },
  {
   "cell_type": "code",
   "execution_count": 1,
   "metadata": {},
   "outputs": [],
   "source": [
    "class Empleados:\n",
    "    pass\n"
   ]
  },
  {
   "cell_type": "code",
   "execution_count": 83,
   "metadata": {},
   "outputs": [],
   "source": [
    "# Definimos atributos a la clase creada\n",
    "\n",
    "class Empleados:    \n",
    "    def __init__ (self,nombre,apellido,edad,posicion,año,dias_vacaciones,herramientas):\n",
    "\n",
    "        self.nombre = nombre\n",
    "        self.apellido = apellido\n",
    "        self.edad = edad\n",
    "        self.posicion =posicion\n",
    "        self.año = año\n",
    "        self.dias_vacaciones = dias_vacaciones\n",
    "        self.herramientas = herramientas\n",
    "\n",
    "# Definid los siguientes métodos: descripción,calculo_vacaciones,cambiando_posicion:\n",
    "    def descripcion(self):\n",
    "\n",
    "        return f'\"El/ella es {self.nombre} {self.posicion}, quien lleva con nosotros en la empresa desde {self.año}. Además este año le quedan {self.dias_vacaciones} dias de vacaciones\"'\n",
    "          \n",
    "    # calculo_vacaciones\n",
    "\n",
    "    def calculo_vacaciones(self):\n",
    "        dias_deseados = int(input('Cuantos dias quieres de vacaciones?'))\n",
    "        dias_vacaciones_restantes = self.dias_vacaciones - dias_deseados\n",
    "        if dias_vacaciones_restantes == 0:\n",
    "            return 'Se acabaron las vacaciones'\n",
    "        elif dias_deseados > dias_vacaciones_restantes:\n",
    "            return f'No puedes ir {dias_deseados} dias de vacaciones'\n",
    "        else:\n",
    "            return f'Tus dias de vacaciones son {dias_vacaciones_restantes}' #@Nos esta retornando mal este return\n",
    "\n",
    "     # cambiando_posicion\n",
    "    def cambiando_posicion(self):\n",
    "\n",
    "        for x in self.herramientas:\n",
    "            if x == 'Python':\n",
    "                return 'Bien hecho!'\n",
    "            elif x == 'Excel' :\n",
    "                return 'Te recomiendo que uses Python' #@ mejorar que convierta el strin en lower o upper\n",
    "     \n",
    "    \n"
   ]
  },
  {
   "cell_type": "code",
   "execution_count": 78,
   "metadata": {},
   "outputs": [],
   "source": [
    "#Cread una instancia para la clase creada\n",
    "\n",
    "maria = Empleados('Maria','lopez',35,'Senior',2018,21,['Excel','word'])"
   ]
  },
  {
   "cell_type": "markdown",
   "metadata": {},
   "source": [
    "##### Comprobamos ####\n"
   ]
  },
  {
   "cell_type": "code",
   "execution_count": 84,
   "metadata": {},
   "outputs": [
    {
     "data": {
      "text/plain": [
       "'\"El/ella es Maria, Senior, quien lleva con nosotros en la empresa desde 2018. Además este año le quedan 21 dias de vacaciones\"'"
      ]
     },
     "execution_count": 84,
     "metadata": {},
     "output_type": "execute_result"
    }
   ],
   "source": [
    "maria.descripcion()"
   ]
  },
  {
   "cell_type": "code",
   "execution_count": 75,
   "metadata": {},
   "outputs": [
    {
     "data": {
      "text/plain": [
       "'Tus dias de vacaciones son 16'"
      ]
     },
     "execution_count": 75,
     "metadata": {},
     "output_type": "execute_result"
    }
   ],
   "source": [
    "maria.calculo_vacaciones()"
   ]
  },
  {
   "cell_type": "code",
   "execution_count": 76,
   "metadata": {},
   "outputs": [
    {
     "data": {
      "text/plain": [
       "'Te recomiendo que uses Python'"
      ]
     },
     "execution_count": 76,
     "metadata": {},
     "output_type": "execute_result"
    }
   ],
   "source": [
    "maria.cambiando_posicion()"
   ]
  }
 ],
 "metadata": {
  "kernelspec": {
   "display_name": "Python 3.9.13 ('base')",
   "language": "python",
   "name": "python3"
  },
  "language_info": {
   "codemirror_mode": {
    "name": "ipython",
    "version": 3
   },
   "file_extension": ".py",
   "mimetype": "text/x-python",
   "name": "python",
   "nbconvert_exporter": "python",
   "pygments_lexer": "ipython3",
   "version": "3.9.13"
  },
  "orig_nbformat": 4,
  "vscode": {
   "interpreter": {
    "hash": "a52af493819045717511545598ab2b73dabca4ca61b402315e0ef2b43666342d"
   }
  }
 },
 "nbformat": 4,
 "nbformat_minor": 2
}
