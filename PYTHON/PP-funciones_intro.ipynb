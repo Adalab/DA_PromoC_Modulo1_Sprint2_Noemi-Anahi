{
 "cells": [
  {
   "cell_type": "markdown",
   "metadata": {},
   "source": [
    "1)Cread una función que reciba 2 números enteros en forma de string como entrada, y dé como resultado la suma (también en forma de string)\n",
    "Condiciones:\n",
    "Si los dos parámetros que recibe la función son strings vacíos la función nos debe devolver \"0\"\n",
    "Si el primer parámetro es un string vacío, la función nos devuelve el valor del segundo parámetro y viceversa.\n",
    "Probad la función para las siguientes combinaciones de \"números\"\n",
    "\n",
    "\"4\",  \"5\" --> \"9\"\n",
    "\"34\", \"5\" --> \"39\"\n",
    "\"\", \"\" --> \"0\"\n",
    "\"2\", \"\" --> \"2\"\n",
    "\"-5\", \"3\" --> \"-2\""
   ]
  },
  {
   "cell_type": "code",
   "execution_count": 41,
   "metadata": {},
   "outputs": [],
   "source": [
    "def funcion (a,b):\n",
    "    if a == \" \" and b == \" \":\n",
    "        print(\"0\")\n",
    "    elif a == \" \":\n",
    "        print(b)\n",
    "    elif b == \" \":\n",
    "        print(a)\n",
    "\n",
    "    suma =  str(a+b)\n",
    "\n",
    "    \n",
    "    return print (a, \",\", b,  \"-->\", suma)"
   ]
  },
  {
   "cell_type": "code",
   "execution_count": 42,
   "metadata": {},
   "outputs": [
    {
     "name": "stdout",
     "output_type": "stream",
     "text": [
      "39 , 0 --> 39\n"
     ]
    }
   ],
   "source": [
    "funcion(39,0)"
   ]
  },
  {
   "cell_type": "markdown",
   "metadata": {},
   "source": [
    "2)El objetivo es comparar cada par de enteros de 2 listas, y devolver una nueva lista con el número mayor de la comapración..\n",
    "Probad la función para las siguientes listas: \n",
    "\n",
    "arr1 = [13, 64, 15, 17, 88]\n",
    "arr2 = [23, 14, 53, 17, 80]\n",
    "resultado = [23, 64, 53, 17, 88]\n",
    "💡 Pista 💡 En Python existe el método zip."
   ]
  },
  {
   "cell_type": "code",
   "execution_count": 2,
   "metadata": {},
   "outputs": [],
   "source": [
    "def maximo_comparacion(lista1,lista2):\n",
    "   lista_max =[]\n",
    "\n",
    "   for x in zip(lista1, lista2):\n",
    "      maximo = max(x)\n",
    "      lista_max.append(maximo)\n",
    "      \n",
    "   return lista_max\n",
    "    "
   ]
  },
  {
   "cell_type": "code",
   "execution_count": 3,
   "metadata": {},
   "outputs": [],
   "source": [
    "arr1 = [13, 64, 15, 17, 88]\n",
    "arr2 = [23, 14, 53, 17, 80]"
   ]
  },
  {
   "cell_type": "code",
   "execution_count": 4,
   "metadata": {},
   "outputs": [
    {
     "data": {
      "text/plain": [
       "[23, 64, 53, 17, 88]"
      ]
     },
     "execution_count": 4,
     "metadata": {},
     "output_type": "execute_result"
    }
   ],
   "source": [
    "maximo_comparacion(arr1,arr2)"
   ]
  },
  {
   "cell_type": "markdown",
   "metadata": {},
   "source": [
    "3) El objetivo de este ejercicio es convertir un string en un nuevo string en el que cada carácter del nuevo string es \"(\" si ese carácter aparece sólo una vez en el string original, o \")\" si ese carácter aparece más de una vez en el string. Nuestro código no tiene que ser case sensitive, es decir, si hay una letra en mayúscula y en minúscula cuenta como dos apariciones."
   ]
  },
  {
   "cell_type": "markdown",
   "metadata": {},
   "source": [
    "Probad la función para los siguientes strings \n",
    "\n",
    "\"din\"      =>  \"(((\"\n",
    "\"recede\"   =>  \"()()()\"\n",
    "\"Success\"  =>  \")())())\"\n",
    "\"(( @\"     =>  \"))((\" \n",
    "\"Ocvl@GamFLAFkixkS\" => \"((()(()()))))(()(\""
   ]
  },
  {
   "cell_type": "code",
   "execution_count": 62,
   "metadata": {},
   "outputs": [],
   "source": [
    "def simbolos(palabra):\n",
    "\n",
    "    \n",
    "  letra_r = ')'\n",
    "  letra_nr = '('\n",
    "  palabra_simbolo = []\n",
    "    #palabra_list = list(palabra)\n",
    "  \n",
    "  for letra in palabra:\n",
    "    #for letra in palabra_list:\n",
    "      #palabra_list = list(palabra)\n",
    "        if (list(palabra)).count (letra) >=2:\n",
    "      #if palabra_list.count('letra') > 2:\n",
    "            palabra_simbolo.append(letra_r)\n",
    "       \n",
    "        else:\n",
    "            palabra_simbolo.append(letra_nr)\n",
    "    \n",
    "  \n",
    "  return  ''.join(palabra_simbolo)"
   ]
  },
  {
   "cell_type": "code",
   "execution_count": 65,
   "metadata": {},
   "outputs": [
    {
     "data": {
      "text/plain": [
       "'(((((((()(())(()('"
      ]
     },
     "execution_count": 65,
     "metadata": {},
     "output_type": "execute_result"
    }
   ],
   "source": [
    "#prueba: \"Ocvl@GamFLAFkixkS\" => \"((()(()()))))(()(\"\n",
    "\n",
    "simbolos(\"Ocvl@GamFLAFkixkS\")\n",
    "\n",
    "#NO ES CASE SENSITIVE (Entendemos que eso pide la consigna)\n"
   ]
  }
 ],
 "metadata": {
  "kernelspec": {
   "display_name": "Python 3.10.8 64-bit (microsoft store)",
   "language": "python",
   "name": "python3"
  },
  "language_info": {
   "codemirror_mode": {
    "name": "ipython",
    "version": 3
   },
   "file_extension": ".py",
   "mimetype": "text/x-python",
   "name": "python",
   "nbconvert_exporter": "python",
   "pygments_lexer": "ipython3",
   "version": "3.10.8"
  },
  "orig_nbformat": 4,
  "vscode": {
   "interpreter": {
    "hash": "74ce4e106c5f3fb5408a2b59926dbdd162e96cafe5f5c54fb66c999b373c7a81"
   }
  }
 },
 "nbformat": 4,
 "nbformat_minor": 2
}
